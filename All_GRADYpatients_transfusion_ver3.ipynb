{
 "cells": [
  {
   "cell_type": "markdown",
   "id": "3bcfcbec-cbf6-4eb1-bf9e-c8825d458ba6",
   "metadata": {},
   "source": [
    "# **GRADY DATA: Transfusion Response Analysis with median SpO2, Hb, S/F (SpO2/FiO2), P/F (PaO2/FiO2) and blood volume (ml)**"
   ]
  },
  {
   "cell_type": "markdown",
   "id": "61e941c3-55b6-4c67-a96b-765718ddc21e",
   "metadata": {},
   "source": [
    "**BeforeT: 24 hrs before T to T time, AfterT: T+4 hrs to T+4+$\\tau$ hrs, where $\\tau$=3,6,9,12**"
   ]
  },
  {
   "cell_type": "markdown",
   "id": "c48ef9a7-8e5e-4749-80b1-0069aeee0cbc",
   "metadata": {},
   "source": [
    "find del_Hb, del_SpO2, S/F, P/F"
   ]
  },
  {
   "cell_type": "markdown",
   "id": "c1dc4426-1f24-4ccd-abcb-c657454b0c4e",
   "metadata": {},
   "source": [
    "Remove bed criteria to include more patients"
   ]
  },
  {
   "cell_type": "code",
   "execution_count": 53,
   "id": "e2061ea2-a007-481e-aefe-9e4e3b3e5944",
   "metadata": {},
   "outputs": [],
   "source": [
    "import pandas as pd\n",
    "from datetime import datetime\n",
    "import os\n",
    "import pickle\n",
    "from datetime import timedelta\n",
    "from datetime import datetime\n",
    "from datetime import date\n",
    "from datetime import time\n",
    "from dateutil.relativedelta import relativedelta\n",
    "import random\n",
    "import matplotlib.pyplot as plt\n",
    "from multiprocessing import Pool\n",
    "import numpy as np\n",
    "\n",
    "import wfdb\n",
    "from tqdm import tqdm\n",
    "\n",
    "import seaborn as sns\n",
    "from sklearn.preprocessing import StandardScaler\n",
    "from sklearn import decomposition\n",
    "from sklearn.decomposition import PCA\n",
    "from sklearn.cluster import KMeans\n",
    "\n",
    "import time\n",
    "\n",
    "import warnings\n",
    "warnings.filterwarnings('ignore') \n",
    "# warnings.filterwarnings(\"ignore\", category=RuntimeWarning) "
   ]
  },
  {
   "cell_type": "code",
   "execution_count": 2,
   "id": "d50d4908-1405-4e4e-bc72-f7a17cecb086",
   "metadata": {},
   "outputs": [],
   "source": [
    "path = \"/labs/kamaleswaranlab/MODS/Data/Grady_Data/2. Fluids & Meds/Blood Products/\""
   ]
  },
  {
   "cell_type": "code",
   "execution_count": 3,
   "id": "0933cd15-72dc-46be-b612-e57aad328022",
   "metadata": {},
   "outputs": [
    {
     "data": {
      "text/plain": [
       "['7. Radiology',\n",
       " '6. Vent',\n",
       " '4. Patient Assessments',\n",
       " '8. Lines',\n",
       " '2. Fluids & Meds',\n",
       " '5. ICD Codes',\n",
       " '1. Administrative Attributes',\n",
       " '3. Labs & Cultures',\n",
       " 'meta_data']"
      ]
     },
     "execution_count": 3,
     "metadata": {},
     "output_type": "execute_result"
    }
   ],
   "source": [
    "os.listdir('/labs/kamaleswaranlab/MODS/Data/Grady_Data/')"
   ]
  },
  {
   "cell_type": "code",
   "execution_count": 6,
   "id": "00262667-7b07-41dd-a814-db16370f7c3e",
   "metadata": {},
   "outputs": [
    {
     "data": {
      "text/plain": [
       "['encounter_2014_decomp_03112020.txt',\n",
       " 'encounter_2015_decomp_03112020.txt',\n",
       " 'encounter_2016_decomp_03112020.txt',\n",
       " 'encounter_2017_decomp_03112020.txt',\n",
       " 'encounter_2018_decomp_03112020.txt',\n",
       " 'encounter_2020_decomp_07222020.txt',\n",
       " 'encounters_2019_decomp_04272020.txt',\n",
       " 'archive',\n",
       " '.encounter_2016_decomp_03112020.txt.swp',\n",
       " '.encounter_2017_decomp_03112020.txt.swp',\n",
       " 'encounter_2021_decomp_05032022.txt',\n",
       " 'encounter_2022_decomp_11082022.txt',\n",
       " 'encounter_2014-2022_decomp_by_MRN_04112023.txt',\n",
       " 'encounter_2021_09062023.txt',\n",
       " 'encounter_2022_09062023.txt']"
      ]
     },
     "execution_count": 6,
     "metadata": {},
     "output_type": "execute_result"
    }
   ],
   "source": [
    "os.listdir('/labs/kamaleswaranlab/MODS/Data/Grady_Data/1. Administrative Attributes/Encounters/')"
   ]
  },
  {
   "cell_type": "code",
   "execution_count": null,
   "id": "1c9c4b75-5b23-4c83-9220-fd01ec0f85d3",
   "metadata": {},
   "outputs": [],
   "source": []
  },
  {
   "cell_type": "code",
   "execution_count": 65,
   "id": "8bb4a61d-fa8a-4438-9b86-b42dad843862",
   "metadata": {
    "jupyter": {
     "source_hidden": true
    },
    "tags": []
   },
   "outputs": [],
   "source": [
    "# years = ['2016','2017','2018','2019','2020']\n",
    "\n",
    "# All_icu_pat = pd.DataFrame()\n",
    "# for year in years:\n",
    "#     dir1 = '/labs/kamaleswaranlab/MODS/Data/Grady_Data/'  \n",
    "#     ### ICU adult patients: \n",
    "#     files1 = [filename for filename in os.listdir(dir1+'1. Administrative Attributes/Encounters/') if filename.startswith('encounter_'+str(year))]\n",
    "#     if year == '2019':\n",
    "#         files1 = [filename for filename in os.listdir(dir1+'1. Administrative Attributes/Encounters/') if filename.startswith('encounters_'+str(year))]\n",
    "#     bedFilePath = dir1+'1. Administrative Attributes/Encounters/'+files1[0]\n",
    "#     bedPat = pd.read_csv(bedFilePath, sep='|', low_memory=False)\n",
    "#     icuPat = bedPat[~bedPat.total_icu_days.isnull()]\n",
    "#     icuPat = icuPat[icuPat.age>18]\n",
    "#     icuPat.csn = icuPat.csn.astype(int)\n",
    "#     icuPat['pat_id'] = icuPat['pat_id'].astype(str) \n",
    "#     icuPat['year'] = str(year)\n",
    "#     All_icu_pat = pd.concat([All_icu_pat, icuPat], axis=0)\n",
    "# All_icu_pat.drop_duplicates(inplace=True)        \n",
    "# All_icu_pat.reset_index(drop=True, inplace=True)\n",
    "# All_icu_pat"
   ]
  },
  {
   "cell_type": "markdown",
   "id": "524b105c-c96a-4f7e-8d87-3500625c9562",
   "metadata": {},
   "source": [
    "**Adding CSNs into Patient Directory along with PAT_ID**"
   ]
  },
  {
   "cell_type": "code",
   "execution_count": 7,
   "id": "6edb1880-dce4-4dd0-9962-7f6bf2455dfe",
   "metadata": {},
   "outputs": [
    {
     "name": "stdout",
     "output_type": "stream",
     "text": [
      "All total patients in 2016-- #pat_ids: 3647, #CSNs: 3853\n",
      "All total patients in 2017-- #pat_ids: 3455, #CSNs: 3629\n",
      "All total patients in 2018-- #pat_ids: 3460, #CSNs: 3626\n",
      "All total patients in 2019-- #pat_ids: 4178, #CSNs: 4439\n",
      "All total patients in 2020-- #pat_ids: 3015, #CSNs: 3216\n",
      "Total patients throughout the years-- #pat_ids: 17755, #CSNs: 18763\n",
      "Total patients admitted (no having waveforms criterion)-- #pat_ids: 16945, #CSNs: 18762, #Years: ['2016' '2017' '2018' '2019' '2020']\n"
     ]
    }
   ],
   "source": [
    "years = ['2016','2017','2018','2019','2020']\n",
    "\n",
    "All_Vent_Pat_bed_matched_total = pd.DataFrame()\n",
    "pat_total = 0\n",
    "csn_total = 0\n",
    "\n",
    "count=0\n",
    "for year in years:\n",
    "    dir1 = '/labs/kamaleswaranlab/MODS/Data/Grady_Data/'\n",
    "    \n",
    "    ###(1) ICU adult patients: \n",
    "\n",
    "    files1 = [filename for filename in os.listdir(dir1+'1. Administrative Attributes/Encounters/') if filename.startswith('encounter_'+str(year))]\n",
    "    if year == '2019':\n",
    "        files1 = [filename for filename in os.listdir(dir1+'1. Administrative Attributes/Encounters/') if filename.startswith('encounters_'+str(year))]\n",
    "    bedFilePath = dir1+'1. Administrative Attributes/Encounters/'+files1[0]\n",
    "    bedPat = pd.read_csv(bedFilePath, sep='|', low_memory=False)\n",
    "    icuPat = bedPat[~bedPat.total_icu_days.isnull()]\n",
    "    icuPat = icuPat[icuPat.age>18]\n",
    "    icuPat.csn = icuPat.csn.astype(int)\n",
    "    \n",
    "    pat = len(icuPat['pat_id'].unique())\n",
    "    csn = len(icuPat['csn'].unique())\n",
    "    print(f'All total patients in {year}-- #pat_ids: {pat}, #CSNs: {csn}')\n",
    "    pat_total = pat_total + pat\n",
    "    csn_total = csn_total + csn\n",
    "     \n",
    "        \n",
    "    icuPat['PAT_ID'] = icuPat['pat_id']\n",
    "    icuPat['pat_id'] = icuPat['pat_id'].astype(str)\n",
    "\n",
    "\n",
    "    All_Vent_Pat_bed_matched = icuPat \n",
    "\n",
    "    All_Vent_Pat_bed_matched['year'] = str(year)\n",
    "\n",
    "    #Creating a dataframe with all data pertaining to waveform identifiers from the list given\n",
    "\n",
    "    All_Vent_Pat_bed_matched_total = pd.concat([All_Vent_Pat_bed_matched_total, All_Vent_Pat_bed_matched], axis=0)\n",
    "        \n",
    "print(f'Total patients throughout the years-- #pat_ids: {pat_total}, #CSNs: {csn_total}')\n",
    "#debedWav = len(All_Vent_Pat_bed_matched_total['deBedTime'].unique())\n",
    "patWav = len(All_Vent_Pat_bed_matched_total['PAT_ID'].unique())\n",
    "csnWav = len(All_Vent_Pat_bed_matched_total['csn'].unique())\n",
    "yrsWav = All_Vent_Pat_bed_matched_total['year'].unique()\n",
    "print(f'Total patients admitted (no having waveforms criterion)-- #pat_ids: {patWav}, #CSNs: {csnWav}, #Years: {yrsWav}')"
   ]
  },
  {
   "cell_type": "code",
   "execution_count": 8,
   "id": "5d2e2489-9fc8-4d10-b6c9-fc6dc3df9e94",
   "metadata": {},
   "outputs": [],
   "source": [
    "All_Vent_Pat_bed_matched_total.drop_duplicates(inplace=True)"
   ]
  },
  {
   "cell_type": "code",
   "execution_count": 9,
   "id": "44a9276e-9ed1-4b30-9ecc-d9e1c5dc4ad1",
   "metadata": {},
   "outputs": [],
   "source": [
    "# All_Vent_Pat_bed_matched_total['csn'] = All_Vent_Pat_bed_matched_total['csn'].astype('int64')\n",
    "# All_Vent_Pat_bed_matched_total['csn']"
   ]
  },
  {
   "cell_type": "code",
   "execution_count": null,
   "id": "7d6c46df-4d14-408b-b3f2-d48b1d6db882",
   "metadata": {},
   "outputs": [],
   "source": [
    "All_Vent_Pat_bed_matched_total"
   ]
  },
  {
   "cell_type": "code",
   "execution_count": 11,
   "id": "8b8f5dba-b09b-4a27-8845-063c647731d3",
   "metadata": {},
   "outputs": [],
   "source": [
    "All_Vent_Pat_bed_matched_total=All_Vent_Pat_bed_matched_total.reset_index()"
   ]
  },
  {
   "cell_type": "code",
   "execution_count": 12,
   "id": "40d282c3-27c7-4b63-9475-feb99fc43cb8",
   "metadata": {},
   "outputs": [
    {
     "data": {
      "text/plain": [
       "index                             int64\n",
       "pat_id                           object\n",
       "csn                               int64\n",
       "har                             float64\n",
       "mrn                               int64\n",
       "study_id                        float64\n",
       "age                             float64\n",
       "zip_code                         object\n",
       "ed_arrival_source                object\n",
       "pre_admit_location               object\n",
       "ed_presentation_time             object\n",
       "hospital_admission_date_time     object\n",
       "hospital_discharge_date_time     object\n",
       "admit_reason                     object\n",
       "insurance_status                 object\n",
       "cpr_in_ed                        object\n",
       "total_icu_days                  float64\n",
       "total_vent_days                 float64\n",
       "total_hosp_days                 float64\n",
       "discharge_status                 object\n",
       "discharge_to                     object\n",
       "encounter_type                   object\n",
       "PAT_ID                           object\n",
       "year                             object\n",
       "dtype: object"
      ]
     },
     "execution_count": 12,
     "metadata": {},
     "output_type": "execute_result"
    }
   ],
   "source": [
    "All_Vent_Pat_bed_matched_total.dtypes"
   ]
  },
  {
   "cell_type": "code",
   "execution_count": 13,
   "id": "b24ba9c9-61d1-4389-bda1-f65142c242b7",
   "metadata": {},
   "outputs": [
    {
     "name": "stdout",
     "output_type": "stream",
     "text": [
      "18762\n",
      "16945\n"
     ]
    }
   ],
   "source": [
    "print(len(All_Vent_Pat_bed_matched_total.csn.unique()))\n",
    "print(len(All_Vent_Pat_bed_matched_total.pat_id.unique()))"
   ]
  },
  {
   "cell_type": "markdown",
   "id": "005e0248-8ae5-4c08-ad67-6b06b4f78582",
   "metadata": {},
   "source": [
    "**Finding CSNs undergoes to Transfusion from Patient Directory**"
   ]
  },
  {
   "cell_type": "code",
   "execution_count": 16,
   "id": "ba102501-1055-4616-8b86-75d62237cf93",
   "metadata": {},
   "outputs": [],
   "source": [
    "df_transfusion = pd.read_csv('/labs/kamaleswaranlab/MODS/Data/Grady_Data/2. Fluids & Meds/Blood Products/blood_transfusion_2014-2022_decomp_by_MRN_04102023.txt', sep=\"|\")"
   ]
  },
  {
   "cell_type": "code",
   "execution_count": null,
   "id": "59bbd7f0-d715-4241-8ede-bbf922cb8de3",
   "metadata": {},
   "outputs": [],
   "source": [
    "df_transfusion.drop_duplicates(inplace=True)\n",
    "df_transfusion.reset_index(drop=True, inplace=True)\n",
    "df_transfusion"
   ]
  },
  {
   "cell_type": "code",
   "execution_count": 20,
   "id": "07a45553-f497-4a6e-89a1-0d643e52b374",
   "metadata": {},
   "outputs": [
    {
     "name": "stdout",
     "output_type": "stream",
     "text": [
      "How many years of patients bed-data present: ['2016' '2017' '2018' '2019' '2020']\n",
      "How many years of transfusion data present: [2014, 2015, 2016, 2017, 2018, 2019, 2020, 2021, 2022, 2023]\n"
     ]
    }
   ],
   "source": [
    "yearsT = All_Vent_Pat_bed_matched_total.year.unique()\n",
    "print(f'How many years of patients bed-data present: {yearsT}')\n",
    "\n",
    "# #How many years of waveform data\n",
    "# yearsW = sorted((pd.to_datetime(All_Pat_file['DateStart']).dt.year).unique())\n",
    "# print(f'How many years of waveform data present: {yearsW}')\n",
    "\n",
    "yearsTrans = sorted((pd.to_datetime(df_transfusion['transfusion_start']).dt.year).unique())\n",
    "print(f'How many years of transfusion data present: {yearsTrans}')"
   ]
  },
  {
   "cell_type": "code",
   "execution_count": 21,
   "id": "1b05d67b-f5f9-4360-b7a9-46d91fa7130a",
   "metadata": {},
   "outputs": [],
   "source": [
    "df_transfusion['year'] = pd.to_datetime(df_transfusion['transfusion_start']).dt.year"
   ]
  },
  {
   "cell_type": "code",
   "execution_count": 22,
   "id": "8d25c8cb-7df2-44ff-a240-90e365bdee57",
   "metadata": {},
   "outputs": [
    {
     "data": {
      "text/plain": [
       "array([2014, 2015, 2016, 2020, 2017, 2018, 2019, 2021, 2022, 2023])"
      ]
     },
     "execution_count": 22,
     "metadata": {},
     "output_type": "execute_result"
    }
   ],
   "source": [
    "df_transfusion['year'].unique()"
   ]
  },
  {
   "cell_type": "code",
   "execution_count": 24,
   "id": "0e012f96-0c6d-4bd1-8d22-059c9bbd7d80",
   "metadata": {},
   "outputs": [],
   "source": [
    "from collections import Counter\n",
    "w = Counter(df_transfusion.blood_product_name)"
   ]
  },
  {
   "cell_type": "code",
   "execution_count": 30,
   "id": "9465cf08-b2ac-4543-a89f-a0dfc307cdf1",
   "metadata": {},
   "outputs": [
    {
     "data": {
      "image/png": "[encoded data removed]",
      "text/plain": [
       "<Figure size 936x288 with 1 Axes>"
      ]
     },
     "metadata": {
      "needs_background": "light"
     },
     "output_type": "display_data"
    }
   ],
   "source": [
    "plt.figure(figsize=[13,4])\n",
    "plt.bar(w.keys(), w.values())\n",
    "y_pos = range(len(w.keys()))\n",
    "# Rotation of the bars names\n",
    "plt.xticks(y_pos, w.keys(), rotation=90)\n",
    "plt.title('Transfusion frequency from 2014-2022 at Grady Hospital')\n",
    "plt.ylabel('Count')\n",
    "plt.show()"
   ]
  },
  {
   "cell_type": "code",
   "execution_count": null,
   "id": "11eabe36-2824-4030-9848-413e4087f5f6",
   "metadata": {},
   "outputs": [],
   "source": [
    "df_transfusion_years = pd.DataFrame()\n",
    "for yr in years:\n",
    "    df_transfusion_y = df_transfusion[df_transfusion['year'] == int(yr)]\n",
    "    df_transfusion_years = pd.concat([df_transfusion_years, df_transfusion_y], axis=0)\n",
    "df_transfusion_years"
   ]
  },
  {
   "cell_type": "code",
   "execution_count": 29,
   "id": "a419361f-c07e-4387-b105-6d90c4720dbe",
   "metadata": {},
   "outputs": [
    {
     "data": {
      "image/png": "[encoded data removed]",
      "text/plain": [
       "<Figure size 936x288 with 1 Axes>"
      ]
     },
     "metadata": {
      "needs_background": "light"
     },
     "output_type": "display_data"
    },
    {
     "data": {
      "text/plain": [
       "Counter({'PREPARE PLATELET PHERESIS': 7552,\n",
       "         'TRANSFUSE RED BLOOD CELLS': 43474,\n",
       "         'PREPARE FRESH FROZEN PLASMA': 38294,\n",
       "         'FROZEN AND THAWED PLASMA': 306,\n",
       "         'TRANSFUSE FRESH FROZEN PLASMA': 8870,\n",
       "         'PLATELET CONCENTRATE': 73,\n",
       "         'TRANSFUSE RED BLOOD CELLS (INFANT/NEONATE)': 1387,\n",
       "         'PREPARE CRYOPRECIPITATE': 3822,\n",
       "         'ANE TRANSFUSE RED BLOOD CELLS': 10910,\n",
       "         'ANE TRANSFUSE CRYOPRECIPITATE': 876,\n",
       "         'ANE TRANSFUSE FRESH FROZEN PLASMA': 6779,\n",
       "         'TRANSFUSE PLATELET PHERESIS': 4587,\n",
       "         'TRANSFUSE CRYOPRECIPITATE': 1215,\n",
       "         'TRANSFUSE PLATELET PHERESIS (INFANT/NEONATE)': 320,\n",
       "         'ANE TRANSFUSE PLATELET PHERESIS': 1292,\n",
       "         'UNMATCHED RED BLOOD CELLS': 12424,\n",
       "         'UNMATCHED FRESH FROZEN PLASMA': 6399,\n",
       "         'TRANSFUSE FRESH FROZEN PLASMA (INFANT/NEONATE)': 403,\n",
       "         'UNMATCHED CRYOPRECIPITATE': 323,\n",
       "         'UNMATCHED PLATELETS': 365,\n",
       "         'ANE TRANSFUSE CRYOPRECIPITATE FOR FIBRIN GLUE': 15,\n",
       "         'TRANSFUSE CRYOPRECIPITATE (INFANT/NEONATE)': 64,\n",
       "         'UNMATCHED CRYO (FIBRIN GLUE)': 20,\n",
       "         'MASSIVE TRANSFUSION PROTOCOL': 1100,\n",
       "         'TRANSFUSE CRYOPRECIPITATE FOR FIBRIN GLUE': 3,\n",
       "         'UNMATCHED WHOLE BLOOD': 230,\n",
       "         'TRANSFUSE CRYO-POOR PLASMA (CPP)': 2})"
      ]
     },
     "execution_count": 29,
     "metadata": {},
     "output_type": "execute_result"
    }
   ],
   "source": [
    "ww = Counter(df_transfusion_years.blood_product_name)\n",
    "plt.figure(figsize=[13,4])\n",
    "plt.bar(ww.keys(), ww.values())\n",
    "y_pos = range(len(ww.keys()))\n",
    "# Rotation of the bars names\n",
    "plt.xticks(y_pos, ww.keys(), rotation=90)\n",
    "plt.title('Transfusion frequency from 2016-2020 in ICU at Grady Hospital')\n",
    "plt.ylabel('Count')\n",
    "plt.show()\n",
    "ww"
   ]
  },
  {
   "cell_type": "markdown",
   "id": "3533649a-244b-4bb7-ac3a-300cf098bd43",
   "metadata": {},
   "source": [
    "### Find the matched patients"
   ]
  },
  {
   "cell_type": "code",
   "execution_count": null,
   "id": "8df700c8-255e-441d-9943-f5d65667ab93",
   "metadata": {},
   "outputs": [],
   "source": [
    "df_transfusion_years.reset_index(drop=True, inplace=True)\n",
    "df_transfusion_years"
   ]
  },
  {
   "cell_type": "code",
   "execution_count": 38,
   "id": "189af7cd-c986-42c3-abb4-dc6937b82e8a",
   "metadata": {},
   "outputs": [],
   "source": [
    "All_Vent_Pat_bed_matched_total.year = All_Vent_Pat_bed_matched_total.year.astype(int)"
   ]
  },
  {
   "cell_type": "code",
   "execution_count": 39,
   "id": "59b19801-2975-48fb-82ea-580ab399bc5f",
   "metadata": {},
   "outputs": [
    {
     "data": {
      "text/plain": [
       "pat_id                        object\n",
       "csn                            int64\n",
       "har                          float64\n",
       "mrn                            int64\n",
       "study_id                     float64\n",
       "order_time                    object\n",
       "order_id                       int64\n",
       "blood_transfusion_type        object\n",
       "blood_product_name            object\n",
       "unit                           int64\n",
       "product_code                  object\n",
       "product_status                object\n",
       "transfusion_start             object\n",
       "transfusion_end               object\n",
       "transfusion_complete_time     object\n",
       "year                           int64\n",
       "dtype: object"
      ]
     },
     "execution_count": 39,
     "metadata": {},
     "output_type": "execute_result"
    }
   ],
   "source": [
    "df_transfusion_years.dtypes"
   ]
  },
  {
   "cell_type": "code",
   "execution_count": 40,
   "id": "e4834019-8e3d-4c17-b817-070f1ca3a464",
   "metadata": {},
   "outputs": [
    {
     "data": {
      "text/plain": [
       "index                             int64\n",
       "pat_id                           object\n",
       "csn                               int64\n",
       "har                             float64\n",
       "mrn                               int64\n",
       "study_id                        float64\n",
       "age                             float64\n",
       "zip_code                         object\n",
       "ed_arrival_source                object\n",
       "pre_admit_location               object\n",
       "ed_presentation_time             object\n",
       "hospital_admission_date_time     object\n",
       "hospital_discharge_date_time     object\n",
       "admit_reason                     object\n",
       "insurance_status                 object\n",
       "cpr_in_ed                        object\n",
       "total_icu_days                  float64\n",
       "total_vent_days                 float64\n",
       "total_hosp_days                 float64\n",
       "discharge_status                 object\n",
       "discharge_to                     object\n",
       "encounter_type                   object\n",
       "PAT_ID                           object\n",
       "year                              int64\n",
       "dtype: object"
      ]
     },
     "execution_count": 40,
     "metadata": {},
     "output_type": "execute_result"
    }
   ],
   "source": [
    "All_Vent_Pat_bed_matched_total.dtypes"
   ]
  },
  {
   "cell_type": "code",
   "execution_count": null,
   "id": "9d0b968d-e405-4c65-996a-5ef659ed2574",
   "metadata": {},
   "outputs": [],
   "source": [
    "All_csn_transfusion = All_Vent_Pat_bed_matched_total.merge(df_transfusion_years,on='csn',how='left') #Intersection\n",
    "All_csn_transfusion"
   ]
  },
  {
   "cell_type": "code",
   "execution_count": null,
   "id": "723a9e63-ba85-4fef-8e8a-926eefb78df2",
   "metadata": {},
   "outputs": [],
   "source": [
    "All_csn_transfusion[['pat_id_x', 'pat_id_y','year_x','year_y','transfusion_start']]\n"
   ]
  },
  {
   "cell_type": "code",
   "execution_count": 53,
   "id": "168cdc6c-6231-47ce-b991-71d593c7c76e",
   "metadata": {},
   "outputs": [],
   "source": [
    "All_csn_transfusion['year'] = All_csn_transfusion['year_x']\n",
    "All_csn_transfusion['pat_id'] = All_csn_transfusion['pat_id_x']\n",
    "All_csn_transfusion['age_yrs'] = All_csn_transfusion['age']"
   ]
  },
  {
   "cell_type": "code",
   "execution_count": 54,
   "id": "5ea145d0-a29a-45cc-a5e6-ab63f0efc6a3",
   "metadata": {},
   "outputs": [
    {
     "data": {
      "text/plain": [
       "Index(['index', 'pat_id_x', 'csn', 'har_x', 'mrn_x', 'study_id_x', 'age',\n",
       "       'zip_code', 'ed_arrival_source', 'pre_admit_location',\n",
       "       'ed_presentation_time', 'hospital_admission_date_time',\n",
       "       'hospital_discharge_date_time', 'admit_reason', 'insurance_status',\n",
       "       'cpr_in_ed', 'total_icu_days', 'total_vent_days', 'total_hosp_days',\n",
       "       'discharge_status', 'discharge_to', 'encounter_type', 'PAT_ID',\n",
       "       'year_x', 'pat_id_y', 'har_y', 'mrn_y', 'study_id_y', 'order_time',\n",
       "       'order_id', 'blood_transfusion_type', 'blood_product_name', 'unit',\n",
       "       'product_code', 'product_status', 'transfusion_start',\n",
       "       'transfusion_end', 'transfusion_complete_time', 'year_y', 'year',\n",
       "       'pat_id', 'age_yrs'],\n",
       "      dtype='object')"
      ]
     },
     "execution_count": 54,
     "metadata": {},
     "output_type": "execute_result"
    }
   ],
   "source": [
    "All_csn_transfusion.columns"
   ]
  },
  {
   "cell_type": "code",
   "execution_count": 68,
   "id": "7f20a6c2-462b-47a8-b0c3-f3fa3366d88a",
   "metadata": {},
   "outputs": [],
   "source": [
    "All_csn_transfusion_new_selColumns0 = All_csn_transfusion[['pat_id', 'csn','age_yrs',\n",
    "       'transfusion_start',  'transfusion_end', 'blood_product_name','hospital_admission_date_time','hospital_discharge_date_time',\n",
    "       'unit','year']] "
   ]
  },
  {
   "cell_type": "code",
   "execution_count": 69,
   "id": "0b13cb68-e646-49df-88c5-e38bd563c89c",
   "metadata": {},
   "outputs": [
    {
     "data": {
      "text/plain": [
       "PREPARE FRESH FROZEN PLASMA                       24329\n",
       "TRANSFUSE RED BLOOD CELLS                         18188\n",
       "UNMATCHED RED BLOOD CELLS                          7933\n",
       "ANE TRANSFUSE RED BLOOD CELLS                      6298\n",
       "TRANSFUSE FRESH FROZEN PLASMA                      6065\n",
       "ANE TRANSFUSE FRESH FROZEN PLASMA                  4423\n",
       "UNMATCHED FRESH FROZEN PLASMA                      4249\n",
       "PREPARE PLATELET PHERESIS                          4249\n",
       "TRANSFUSE PLATELET PHERESIS                        2510\n",
       "PREPARE CRYOPRECIPITATE                            2460\n",
       "ANE TRANSFUSE PLATELET PHERESIS                     822\n",
       "MASSIVE TRANSFUSION PROTOCOL                        773\n",
       "TRANSFUSE CRYOPRECIPITATE                           734\n",
       "ANE TRANSFUSE CRYOPRECIPITATE                       548\n",
       "UNMATCHED PLATELETS                                 236\n",
       "UNMATCHED CRYOPRECIPITATE                           202\n",
       "FROZEN AND THAWED PLASMA                            173\n",
       "UNMATCHED WHOLE BLOOD                               112\n",
       "PLATELET CONCENTRATE                                 21\n",
       "UNMATCHED CRYO (FIBRIN GLUE)                         14\n",
       "ANE TRANSFUSE CRYOPRECIPITATE FOR FIBRIN GLUE        13\n",
       "TRANSFUSE FRESH FROZEN PLASMA (INFANT/NEONATE)        3\n",
       "TRANSFUSE CRYOPRECIPITATE FOR FIBRIN GLUE             3\n",
       "TRANSFUSE CRYO-POOR PLASMA (CPP)                      2\n",
       "TRANSFUSE RED BLOOD CELLS (INFANT/NEONATE)            1\n",
       "Name: blood_product_name, dtype: int64"
      ]
     },
     "execution_count": 69,
     "metadata": {},
     "output_type": "execute_result"
    }
   ],
   "source": [
    "All_csn_transfusion_new_selColumns0.blood_product_name.value_counts()"
   ]
  },
  {
   "cell_type": "code",
   "execution_count": 70,
   "id": "dbc0b021-a213-4d10-a733-c3cd280d2edf",
   "metadata": {},
   "outputs": [
    {
     "data": {
      "text/plain": [
       "0          NaN\n",
       "1          NaN\n",
       "2          NaN\n",
       "3          NaN\n",
       "4          NaN\n",
       "         ...  \n",
       "96987     True\n",
       "96988    False\n",
       "96989    False\n",
       "96990      NaN\n",
       "96991      NaN\n",
       "Name: blood_product_name, Length: 96992, dtype: object"
      ]
     },
     "execution_count": 70,
     "metadata": {},
     "output_type": "execute_result"
    }
   ],
   "source": [
    "All_csn_transfusion_new_selColumns0.blood_product_name.str.contains('red', case=False) "
   ]
  },
  {
   "cell_type": "code",
   "execution_count": null,
   "id": "b7f3e3ee-4a8d-4df6-89d8-6969960745d9",
   "metadata": {},
   "outputs": [],
   "source": []
  },
  {
   "cell_type": "code",
   "execution_count": 71,
   "id": "5c442fbc-10cf-482d-9429-6b5f48c237d2",
   "metadata": {},
   "outputs": [
    {
     "name": "stdout",
     "output_type": "stream",
     "text": [
      "12631\n",
      "39727\n",
      "12631\n"
     ]
    }
   ],
   "source": [
    "### Remove columns with generated Nans from merging/matching process\n",
    "print(All_csn_transfusion_new_selColumns0['transfusion_start'].isnull().sum())\n",
    "print(All_csn_transfusion_new_selColumns0['transfusion_end'].isnull().sum())\n",
    "print(All_csn_transfusion_new_selColumns0['blood_product_name'].isnull().sum())"
   ]
  },
  {
   "cell_type": "code",
   "execution_count": null,
   "id": "25f91011-ed56-480d-a9ee-10796b08aa45",
   "metadata": {},
   "outputs": [],
   "source": [
    "All_csn_transfusion_new = All_csn_transfusion_new_selColumns0[~(All_csn_transfusion_new_selColumns0['transfusion_start'].isnull())]\n",
    "All_csn_transfusion_new.reset_index(drop=True, inplace=True)\n",
    "All_csn_transfusion_new"
   ]
  },
  {
   "cell_type": "code",
   "execution_count": 84,
   "id": "3c6a4e18-2db7-4365-9345-093b56f8d77f",
   "metadata": {},
   "outputs": [
    {
     "data": {
      "text/html": [
       "<div>\n",
       "<style scoped>\n",
       "    .dataframe tbody tr th:only-of-type {\n",
       "        vertical-align: middle;\n",
       "    }\n",
       "\n",
       "    .dataframe tbody tr th {\n",
       "        vertical-align: top;\n",
       "    }\n",
       "\n",
       "    .dataframe thead th {\n",
       "        text-align: right;\n",
       "    }\n",
       "</style>\n",
       "<table border=\"1\" class=\"dataframe\">\n",
       "  <thead>\n",
       "    <tr style=\"text-align: right;\">\n",
       "      <th></th>\n",
       "      <th>pat_id</th>\n",
       "      <th>csn</th>\n",
       "      <th>age_yrs</th>\n",
       "      <th>transfusion_start</th>\n",
       "      <th>transfusion_end</th>\n",
       "      <th>blood_product_name</th>\n",
       "      <th>hospital_admission_date_time</th>\n",
       "      <th>hospital_discharge_date_time</th>\n",
       "      <th>unit</th>\n",
       "      <th>year</th>\n",
       "    </tr>\n",
       "  </thead>\n",
       "  <tbody>\n",
       "    <tr>\n",
       "      <th>35671</th>\n",
       "      <td>Z460384</td>\n",
       "      <td>1021000315</td>\n",
       "      <td>33.0</td>\n",
       "      <td>2017-09-29 13:29:00.000</td>\n",
       "      <td>2017-09-29 13:48:00.000</td>\n",
       "      <td>TRANSFUSE RED BLOOD CELLS (INFANT/NEONATE)</td>\n",
       "      <td>2017-09-29 10:28:00.000</td>\n",
       "      <td>2017-10-01 21:45:00.000</td>\n",
       "      <td>1.0</td>\n",
       "      <td>2017</td>\n",
       "    </tr>\n",
       "  </tbody>\n",
       "</table>\n",
       "</div>"
      ],
      "text/plain": [
       "        pat_id         csn  age_yrs        transfusion_start  \\\n",
       "35671  Z460384  1021000315     33.0  2017-09-29 13:29:00.000   \n",
       "\n",
       "               transfusion_end                          blood_product_name  \\\n",
       "35671  2017-09-29 13:48:00.000  TRANSFUSE RED BLOOD CELLS (INFANT/NEONATE)   \n",
       "\n",
       "      hospital_admission_date_time hospital_discharge_date_time  unit  year  \n",
       "35671      2017-09-29 10:28:00.000      2017-10-01 21:45:00.000   1.0  2017  "
      ]
     },
     "execution_count": 84,
     "metadata": {},
     "output_type": "execute_result"
    }
   ],
   "source": [
    "All_csn_transfusion_new[All_csn_transfusion_new.blood_product_name == 'TRANSFUSE RED BLOOD CELLS (INFANT/NEONATE)']"
   ]
  },
  {
   "cell_type": "code",
   "execution_count": 48,
   "id": "4e68812a-a4f8-470e-8137-8b009bebb3c0",
   "metadata": {},
   "outputs": [
    {
     "ename": "NameError",
     "evalue": "name 'All_csn_transfusion_new' is not defined",
     "output_type": "error",
     "traceback": [
      "\u001b[0;31m---------------------------------------------------------------------------\u001b[0m",
      "\u001b[0;31mNameError\u001b[0m                                 Traceback (most recent call last)",
      "\u001b[0;32m/tmp/ipykernel_16680/3770466054.py\u001b[0m in \u001b[0;36m<cell line: 1>\u001b[0;34m()\u001b[0m\n\u001b[0;32m----> 1\u001b[0;31m \u001b[0mprint\u001b[0m\u001b[0;34m(\u001b[0m\u001b[0mAll_csn_transfusion_new\u001b[0m\u001b[0;34m[\u001b[0m\u001b[0;34m'transfusion_start'\u001b[0m\u001b[0;34m]\u001b[0m\u001b[0;34m.\u001b[0m\u001b[0misnull\u001b[0m\u001b[0;34m(\u001b[0m\u001b[0;34m)\u001b[0m\u001b[0;34m.\u001b[0m\u001b[0msum\u001b[0m\u001b[0;34m(\u001b[0m\u001b[0;34m)\u001b[0m\u001b[0;34m)\u001b[0m\u001b[0;34m\u001b[0m\u001b[0;34m\u001b[0m\u001b[0m\n\u001b[0m",
      "\u001b[0;31mNameError\u001b[0m: name 'All_csn_transfusion_new' is not defined"
     ]
    }
   ],
   "source": [
    "print(All_csn_transfusion_new['transfusion_start'].isnull().sum())"
   ]
  },
  {
   "cell_type": "code",
   "execution_count": 74,
   "id": "c3d72703-4b70-4168-89ba-4acee031fb05",
   "metadata": {},
   "outputs": [
    {
     "data": {
      "text/plain": [
       "0"
      ]
     },
     "execution_count": 74,
     "metadata": {},
     "output_type": "execute_result"
    }
   ],
   "source": [
    "All_csn_transfusion_new['unit'].isna().sum()"
   ]
  },
  {
   "cell_type": "code",
   "execution_count": 77,
   "id": "4e9cd9e1-aa2c-4d1d-948c-6d64142ecee4",
   "metadata": {},
   "outputs": [
    {
     "name": "stdout",
     "output_type": "stream",
     "text": [
      "Total patients transfused-- #pat_ids: 5807, #CSNs: 6131,  #Years: [2016 2017 2018 2019 2020]\n"
     ]
    }
   ],
   "source": [
    "# debedWavT = len(All_csn_transfusion_new_selColumns0['deBedTime'].unique())\n",
    "\n",
    "patWavT = len(All_csn_transfusion_new['pat_id'].unique())\n",
    "csnWavT = len(All_csn_transfusion_new['csn'].unique())\n",
    "yrsWavT = All_csn_transfusion_new['year'].unique()\n",
    "print(f'Total patients transfused-- #pat_ids: {patWavT}, #CSNs: {csnWavT},  #Years: {yrsWavT}')"
   ]
  },
  {
   "cell_type": "code",
   "execution_count": 81,
   "id": "687f293c-c26f-414f-94c5-aec38564c8e8",
   "metadata": {},
   "outputs": [
    {
     "data": {
      "text/plain": [
       "TRANSFUSE RED BLOOD CELLS                     18188\n",
       "UNMATCHED RED BLOOD CELLS                      7933\n",
       "ANE TRANSFUSE RED BLOOD CELLS                  6298\n",
       "TRANSFUSE RED BLOOD CELLS (INFANT/NEONATE)        1\n",
       "Name: blood_product_name, dtype: int64"
      ]
     },
     "execution_count": 81,
     "metadata": {},
     "output_type": "execute_result"
    }
   ],
   "source": [
    "All_csn_transfusion_new[All_csn_transfusion_new.blood_product_name.str.contains('red', case=False)].blood_product_name.value_counts()"
   ]
  },
  {
   "cell_type": "code",
   "execution_count": 85,
   "id": "e596bd04-1578-4c1a-9a3d-96dc06ae7175",
   "metadata": {},
   "outputs": [
    {
     "data": {
      "text/plain": [
       "array(['TRANSFUSE RED BLOOD CELLS', 'ANE TRANSFUSE RED BLOOD CELLS',\n",
       "       'UNMATCHED RED BLOOD CELLS',\n",
       "       'TRANSFUSE RED BLOOD CELLS (INFANT/NEONATE)'], dtype=object)"
      ]
     },
     "execution_count": 85,
     "metadata": {},
     "output_type": "execute_result"
    }
   ],
   "source": [
    "All_csn_transfusion_new[All_csn_transfusion_new.blood_product_name.str.contains('red', case=False)].blood_product_name.unique()"
   ]
  },
  {
   "cell_type": "code",
   "execution_count": 86,
   "id": "a8e387ec-9338-4d44-8736-c05eabdc7803",
   "metadata": {},
   "outputs": [],
   "source": [
    "RBC_list = ['TRANSFUSE RED BLOOD CELLS', 'ANE TRANSFUSE RED BLOOD CELLS',\n",
    "       'UNMATCHED RED BLOOD CELLS',\n",
    "       'TRANSFUSE RED BLOOD CELLS (INFANT/NEONATE)']"
   ]
  },
  {
   "cell_type": "markdown",
   "id": "cb3173ab-179a-40aa-97a8-18741e8e5ca4",
   "metadata": {},
   "source": [
    "### Focus on only Red cell transfusions"
   ]
  },
  {
   "cell_type": "code",
   "execution_count": null,
   "id": "ba6d2061-175e-4886-ae8c-c4b79e75b550",
   "metadata": {},
   "outputs": [],
   "source": [
    "All_csn_transfusion_new_RBC = All_csn_transfusion_new[All_csn_transfusion_new.blood_product_name.isin(RBC_list)]\n",
    "All_csn_transfusion_new_RBC"
   ]
  },
  {
   "cell_type": "code",
   "execution_count": 89,
   "id": "fb4676a2-b72a-4f1d-9cc8-002ad9563754",
   "metadata": {},
   "outputs": [],
   "source": [
    "All_csn_transfusion_new_RBC.reset_index(drop=True, inplace=True)"
   ]
  },
  {
   "cell_type": "markdown",
   "id": "e88258e5-db79-46a1-b441-8baca74cc6e2",
   "metadata": {},
   "source": [
    "## Dicarding the patients with MTP showing bleeding/traumatic conditions \n",
    "> Greater than 3 transfusions in 6 hours\n",
    "\n",
    "> **(a) Sort dataframe by csn sothat similar csn could be grouped, (b) check for each csn, whether it has repitions >3, (c) if it has, then check the timings if all are within 6 hrs window ---> discard this csn row entries completely**"
   ]
  },
  {
   "cell_type": "code",
   "execution_count": null,
   "id": "7a8abcec-a245-46d3-aff4-6eb76fc94f27",
   "metadata": {},
   "outputs": [],
   "source": [
    "All_csn_transfusion_new_RBC2 = All_csn_transfusion_new_RBC.sort_values(by=['csn'])\n",
    "All_csn_transfusion_new_RBC2.reset_index(drop=True, inplace=True)\n",
    "All_csn_transfusion_new_RBC2"
   ]
  },
  {
   "cell_type": "code",
   "execution_count": 91,
   "id": "28e9d9e5-d58b-49ae-b2a3-f01239881478",
   "metadata": {},
   "outputs": [
    {
     "name": "stderr",
     "output_type": "stream",
     "text": [
      "100%|██████████| 5403/5403 [01:19<00:00, 67.65it/s]\n"
     ]
    }
   ],
   "source": [
    "MTP_csns = np.array([],dtype=int)\n",
    "unique_csns = All_csn_transfusion_new_RBC2['csn'].unique()\n",
    "for i in tqdm(unique_csns):\n",
    "    csn_count = list(All_csn_transfusion_new_RBC2['csn']).count(i)\n",
    "    if csn_count >= 3:\n",
    "        #print(csn_count)\n",
    "        idx = np.where(np.array(All_csn_transfusion_new_RBC2['csn'])==i)[0]\n",
    "        trans_times = pd.to_datetime(All_csn_transfusion_new_RBC2['transfusion_start'].iloc[idx]) \n",
    "        trans_times_sort = trans_times.sort_values().reset_index(drop=True)\n",
    "        #print(trans_times_sort)\n",
    "        diff_tt_sort = trans_times_sort.diff()\n",
    "        Tcount_under_6hrs = (diff_tt_sort<pd.Timedelta(hours=6)).sum()\n",
    "        if Tcount_under_6hrs >= 3:\n",
    "            #print('MTP patient: discard it')\n",
    "            MTP_csns = np.append(MTP_csns, i)\n",
    "       \n",
    "      \n",
    "        \n",
    "    "
   ]
  },
  {
   "cell_type": "code",
   "execution_count": 100,
   "id": "2b2ca946-80aa-48f3-872c-8e7a2956b0d9",
   "metadata": {},
   "outputs": [
    {
     "data": {
      "text/plain": [
       "1388"
      ]
     },
     "execution_count": 100,
     "metadata": {},
     "output_type": "execute_result"
    }
   ],
   "source": [
    "len(MTP_csns)"
   ]
  },
  {
   "cell_type": "markdown",
   "id": "963ab980-a768-4b0d-8f80-7a01a429d7b4",
   "metadata": {},
   "source": [
    "# MTP\n",
    "> **Discarding MTP csns by merging**"
   ]
  },
  {
   "cell_type": "code",
   "execution_count": 92,
   "id": "352f7ed7-a9fa-4034-bb1e-a283bdedd5ec",
   "metadata": {},
   "outputs": [],
   "source": [
    "MTP_csn_array=np.array([MTP_csns, MTP_csns+10000000000000]).T"
   ]
  },
  {
   "cell_type": "code",
   "execution_count": 93,
   "id": "4fc14da5-f825-47c9-ae80-d596c875c6c7",
   "metadata": {},
   "outputs": [
    {
     "data": {
      "text/html": [
       "<div>\n",
       "<style scoped>\n",
       "    .dataframe tbody tr th:only-of-type {\n",
       "        vertical-align: middle;\n",
       "    }\n",
       "\n",
       "    .dataframe tbody tr th {\n",
       "        vertical-align: top;\n",
       "    }\n",
       "\n",
       "    .dataframe thead th {\n",
       "        text-align: right;\n",
       "    }\n",
       "</style>\n",
       "<table border=\"1\" class=\"dataframe\">\n",
       "  <thead>\n",
       "    <tr style=\"text-align: right;\">\n",
       "      <th></th>\n",
       "      <th>csn</th>\n",
       "      <th>arbitrary</th>\n",
       "    </tr>\n",
       "  </thead>\n",
       "  <tbody>\n",
       "    <tr>\n",
       "      <th>0</th>\n",
       "      <td>1015788298</td>\n",
       "      <td>10001015788298</td>\n",
       "    </tr>\n",
       "    <tr>\n",
       "      <th>1</th>\n",
       "      <td>1015792003</td>\n",
       "      <td>10001015792003</td>\n",
       "    </tr>\n",
       "    <tr>\n",
       "      <th>2</th>\n",
       "      <td>1015794504</td>\n",
       "      <td>10001015794504</td>\n",
       "    </tr>\n",
       "    <tr>\n",
       "      <th>3</th>\n",
       "      <td>1015805995</td>\n",
       "      <td>10001015805995</td>\n",
       "    </tr>\n",
       "    <tr>\n",
       "      <th>4</th>\n",
       "      <td>1015826433</td>\n",
       "      <td>10001015826433</td>\n",
       "    </tr>\n",
       "    <tr>\n",
       "      <th>...</th>\n",
       "      <td>...</td>\n",
       "      <td>...</td>\n",
       "    </tr>\n",
       "    <tr>\n",
       "      <th>1383</th>\n",
       "      <td>1039522856</td>\n",
       "      <td>10001039522856</td>\n",
       "    </tr>\n",
       "    <tr>\n",
       "      <th>1384</th>\n",
       "      <td>1039704019</td>\n",
       "      <td>10001039704019</td>\n",
       "    </tr>\n",
       "    <tr>\n",
       "      <th>1385</th>\n",
       "      <td>1039704637</td>\n",
       "      <td>10001039704637</td>\n",
       "    </tr>\n",
       "    <tr>\n",
       "      <th>1386</th>\n",
       "      <td>1039723458</td>\n",
       "      <td>10001039723458</td>\n",
       "    </tr>\n",
       "    <tr>\n",
       "      <th>1387</th>\n",
       "      <td>1039729700</td>\n",
       "      <td>10001039729700</td>\n",
       "    </tr>\n",
       "  </tbody>\n",
       "</table>\n",
       "<p>1388 rows × 2 columns</p>\n",
       "</div>"
      ],
      "text/plain": [
       "             csn       arbitrary\n",
       "0     1015788298  10001015788298\n",
       "1     1015792003  10001015792003\n",
       "2     1015794504  10001015794504\n",
       "3     1015805995  10001015805995\n",
       "4     1015826433  10001015826433\n",
       "...          ...             ...\n",
       "1383  1039522856  10001039522856\n",
       "1384  1039704019  10001039704019\n",
       "1385  1039704637  10001039704637\n",
       "1386  1039723458  10001039723458\n",
       "1387  1039729700  10001039729700\n",
       "\n",
       "[1388 rows x 2 columns]"
      ]
     },
     "execution_count": 93,
     "metadata": {},
     "output_type": "execute_result"
    }
   ],
   "source": [
    "dfMTP_csns = pd.DataFrame(MTP_csn_array, index=np.arange(len(MTP_csn_array)), columns=['csn','arbitrary'])\n",
    "dfMTP_csns"
   ]
  },
  {
   "cell_type": "code",
   "execution_count": null,
   "id": "6af014eb-ff27-48d9-9b6d-c6c399a057f9",
   "metadata": {},
   "outputs": [],
   "source": [
    "All_csn_transfusion_new_RBC3 = All_csn_transfusion_new_RBC2.merge(dfMTP_csns,on='csn',how='left')#MTP_csns_series\n",
    "All_csn_transfusion_new_RBC3"
   ]
  },
  {
   "cell_type": "code",
   "execution_count": 95,
   "id": "b53642e8-f51e-4352-95c5-4acddc2ce7a0",
   "metadata": {},
   "outputs": [
    {
     "data": {
      "text/plain": [
       "0         True\n",
       "1        False\n",
       "2        False\n",
       "3        False\n",
       "4        False\n",
       "         ...  \n",
       "32415    False\n",
       "32416    False\n",
       "32417    False\n",
       "32418    False\n",
       "32419     True\n",
       "Name: arbitrary, Length: 32420, dtype: bool"
      ]
     },
     "execution_count": 95,
     "metadata": {},
     "output_type": "execute_result"
    }
   ],
   "source": [
    "All_csn_transfusion_new_RBC3['arbitrary'].isnull()"
   ]
  },
  {
   "cell_type": "code",
   "execution_count": null,
   "id": "2c0666e5-b65d-4bbd-8e6c-60543d3b4d92",
   "metadata": {},
   "outputs": [],
   "source": [
    "All_csn_transfusion_new_RBC4 = All_csn_transfusion_new_RBC3[All_csn_transfusion_new_RBC3['arbitrary'].isnull()]\n",
    "All_csn_transfusion_new_RBC4"
   ]
  },
  {
   "cell_type": "code",
   "execution_count": 97,
   "id": "4ca8a7b6-72c5-4359-b7e8-1eca0503abf2",
   "metadata": {},
   "outputs": [],
   "source": [
    "IntersectionBeforeAfterT_RBC = All_csn_transfusion_new_RBC4"
   ]
  },
  {
   "cell_type": "code",
   "execution_count": null,
   "id": "1f214511-26f8-4c7f-a17e-e3bd7efb91b5",
   "metadata": {},
   "outputs": [],
   "source": [
    "IntersectionBeforeAfterT_RBC.drop_duplicates(inplace=True)\n",
    "IntersectionBeforeAfterT_RBC.reset_index(drop=True, inplace=True)\n",
    "IntersectionBeforeAfterT_RBC"
   ]
  },
  {
   "cell_type": "code",
   "execution_count": 101,
   "id": "8719a6cb-cb52-4d09-8309-20f06b9e6b02",
   "metadata": {},
   "outputs": [
    {
     "name": "stdout",
     "output_type": "stream",
     "text": [
      "Total patients having waveforms collected during transfusion-- #pat_ids: 3802, #CSNs: 4015, #Years: [2016 2017 2018 2019 2020]\n"
     ]
    }
   ],
   "source": [
    "#debedWavT3 = len(All_csndata_during_transfusion_list['deBedTime'].unique())\n",
    "patWavT3 = len(IntersectionBeforeAfterT_RBC['pat_id'].unique())\n",
    "csnWavT3 = len(IntersectionBeforeAfterT_RBC['csn'].unique())\n",
    "yrsWavT3 = IntersectionBeforeAfterT_RBC['year'].unique()\n",
    "print(f'Total patients having waveforms collected during transfusion-- #pat_ids: {patWavT3}, #CSNs: {csnWavT3}, #Years: {yrsWavT3}')"
   ]
  },
  {
   "cell_type": "code",
   "execution_count": 102,
   "id": "877aabe0-612f-4481-9256-82668d1877cf",
   "metadata": {},
   "outputs": [
    {
     "name": "stdout",
     "output_type": "stream",
     "text": [
      "(82002, 21) (18763, 24) (311734, 16) (84361, 10) (10767, 11)\n"
     ]
    }
   ],
   "source": [
    "print(bedPat.shape, All_Vent_Pat_bed_matched_total.shape, df_transfusion.shape, All_csn_transfusion_new.shape, IntersectionBeforeAfterT_RBC.shape)"
   ]
  },
  {
   "cell_type": "code",
   "execution_count": 103,
   "id": "3fc7adff-d215-422b-a862-304e4ba4fe87",
   "metadata": {},
   "outputs": [
    {
     "data": {
      "text/plain": [
       "(10767, 11)"
      ]
     },
     "execution_count": 103,
     "metadata": {},
     "output_type": "execute_result"
    }
   ],
   "source": [
    "IntersectionBeforeAfterT_RBC.drop_duplicates(inplace=True)\n",
    "IntersectionBeforeAfterT_RBC.shape"
   ]
  },
  {
   "cell_type": "code",
   "execution_count": 105,
   "id": "4466593b-4083-48bb-85d2-af102a4561ce",
   "metadata": {},
   "outputs": [],
   "source": [
    "#Remove redundency\n",
    "IntersectionBeforeAfterT_RBC.drop_duplicates(subset=['pat_id', 'csn','transfusion_start'], keep='first', inplace=True)"
   ]
  },
  {
   "cell_type": "code",
   "execution_count": 106,
   "id": "98c0f0f3-2c72-444c-829f-9a7673f00769",
   "metadata": {},
   "outputs": [],
   "source": [
    "IntersectionBeforeAfterT_RBC.drop(['arbitrary'], axis=1, inplace=True)"
   ]
  },
  {
   "cell_type": "code",
   "execution_count": 107,
   "id": "221915ef-b8f9-4ffc-a5de-10588522461c",
   "metadata": {},
   "outputs": [
    {
     "data": {
      "text/plain": [
       "(10765, 10)"
      ]
     },
     "execution_count": 107,
     "metadata": {},
     "output_type": "execute_result"
    }
   ],
   "source": [
    "IntersectionBeforeAfterT_RBC.shape"
   ]
  },
  {
   "cell_type": "code",
   "execution_count": null,
   "id": "91ed0d3e-065e-4b46-a5f9-7a7fe09c40bf",
   "metadata": {},
   "outputs": [],
   "source": [
    "IntersectionBeforeT_RBC_sorted = IntersectionBeforeAfterT_RBC.sort_values(by=['csn'])\n",
    "IntersectionBeforeT_RBC_sorted"
   ]
  },
  {
   "cell_type": "markdown",
   "id": "49c16b03-7e2e-4682-a1b5-f8482371b52c",
   "metadata": {},
   "source": [
    "## Exclude RBC Transfusions followed last 24 hours for a CSN"
   ]
  },
  {
   "cell_type": "code",
   "execution_count": null,
   "id": "06479990-a1d5-4a0d-884d-3ab9649f2bc4",
   "metadata": {},
   "outputs": [],
   "source": [
    "x1 = IntersectionBeforeT_RBC_sorted[['csn','transfusion_start']]\n",
    "x1"
   ]
  },
  {
   "cell_type": "code",
   "execution_count": 110,
   "id": "e437dc29-b1bb-4692-91e2-a4dd2d6772f5",
   "metadata": {},
   "outputs": [
    {
     "name": "stderr",
     "output_type": "stream",
     "text": [
      "4015it [00:15, 253.62it/s]\n"
     ]
    }
   ],
   "source": [
    "#exclude RBC Transfusions followed last 24 hours for a CSN\n",
    "\n",
    "valid_Transf = pd.DataFrame([],columns=['csn','transfusion_start'])\n",
    "csn_uni =x1.csn.unique()\n",
    "for i, csnn in tqdm(enumerate(csn_uni)):\n",
    "    idx = np.where(x1.csn == csnn)[0]\n",
    "    TT=pd.to_datetime(x1.iloc[idx]['transfusion_start']).sort_values()\n",
    "    dTT = TT.diff().dt.days\n",
    "    Tsep = dTT < 1 #Trasfusion separation less than 1 day\n",
    "    Tsep.iloc[0] = False\n",
    "    z = np.where(~Tsep)[0] #Indexes need to save for csns and transfusions\n",
    "    a = np.array([csnn]*len(z))\n",
    "    b = TT.iloc[z].values\n",
    "    z1 = pd.DataFrame([a,b],index=['csn','transfusion_start']).T\n",
    "    valid_Transf = pd.concat([valid_Transf, z1],ignore_index=True)\n"
   ]
  },
  {
   "cell_type": "code",
   "execution_count": 112,
   "id": "6342f666-d93b-4f5b-8fba-54bdd11aacb3",
   "metadata": {},
   "outputs": [],
   "source": [
    "valid_Transf['Arb'] = 50\n",
    "valid_Transf['csn'] = valid_Transf['csn'].astype(int)\n",
    "valid_Transf['transfusion_start'] = pd.to_datetime(valid_Transf['transfusion_start'])"
   ]
  },
  {
   "cell_type": "code",
   "execution_count": null,
   "id": "464fee5b-d08a-4982-9711-7baff754e105",
   "metadata": {},
   "outputs": [],
   "source": [
    "IntersectionBeforeT_RBC_sorted['csn'] = IntersectionBeforeT_RBC_sorted['csn'].astype(int)\n",
    "IntersectionBeforeT_RBC_sorted['transfusion_start'] = pd.to_datetime(IntersectionBeforeT_RBC_sorted['transfusion_start'])\n",
    "IntersectionBeforeT_RBC_sorted1 = pd.merge(IntersectionBeforeT_RBC_sorted, valid_Transf, on=['csn','transfusion_start'],how='left')\n",
    "IntersectionBeforeT_RBC_sorted2 = IntersectionBeforeT_RBC_sorted1[~IntersectionBeforeT_RBC_sorted1['Arb'].isnull()]\n",
    "IntersectionBeforeT_RBC_sorted2.drop_duplicates(inplace=True)\n",
    "IntersectionBeforeT_RBC_sorted2.reset_index(drop=True, inplace=True)\n",
    "IntersectionBeforeT_RBC_sorted2"
   ]
  },
  {
   "cell_type": "code",
   "execution_count": 114,
   "id": "ddb46cb0-86ee-49d9-b90c-b9ac8a5b138b",
   "metadata": {},
   "outputs": [
    {
     "data": {
      "text/plain": [
       "(6894, 11)"
      ]
     },
     "execution_count": 114,
     "metadata": {},
     "output_type": "execute_result"
    }
   ],
   "source": [
    "IntersectionBeforeT_RBC_sorted2.shape"
   ]
  },
  {
   "cell_type": "markdown",
   "id": "1c9bee7d-6911-4786-9a5c-0e38671778c3",
   "metadata": {},
   "source": [
    "## Add count of all product transfusions as a feature column in last 7 days"
   ]
  },
  {
   "cell_type": "code",
   "execution_count": null,
   "id": "c026b314-4332-4745-bcf2-14fede00c65a",
   "metadata": {},
   "outputs": [],
   "source": [
    "all_transfusions = All_csn_transfusion_new[['csn','transfusion_start','blood_product_name']]\n",
    "all_transfusions['transfusion_start'] = pd.to_datetime(all_transfusions['transfusion_start'])\n",
    "all_transfusions['arbbb'] = 1000\n",
    "all_transfusions.drop_duplicates(inplace=True)\n",
    "all_transfusions.reset_index(drop=True, inplace=True)\n",
    "all_transfusions"
   ]
  },
  {
   "cell_type": "code",
   "execution_count": 125,
   "id": "d248d392-2b90-441b-9740-729deb5ddb85",
   "metadata": {},
   "outputs": [
    {
     "name": "stderr",
     "output_type": "stream",
     "text": [
      "100%|██████████| 6894/6894 [02:46<00:00, 41.37it/s]\n"
     ]
    },
    {
     "data": {
      "text/plain": [
       "0"
      ]
     },
     "execution_count": 125,
     "metadata": {},
     "output_type": "execute_result"
    }
   ],
   "source": [
    "IntersectionBeforeT_RBC_sorted2['Tcount_7d'] = np.nan\n",
    "for i in tqdm(range(IntersectionBeforeT_RBC_sorted2.shape[0])):\n",
    "    est_TT =  IntersectionBeforeT_RBC_sorted2.iloc[i].transfusion_start\n",
    "    csnn = IntersectionBeforeT_RBC_sorted2.iloc[i].csn\n",
    "    \n",
    "    all_TT_csnn = all_transfusions[all_transfusions.csn==csnn].transfusion_start\n",
    "    Tdiff = est_TT - all_TT_csnn\n",
    "    # Tdiffd = Tdiff.dt.days\n",
    "    cond1 =  Tdiff>pd.Timedelta('0 days 00:00:00') \n",
    "    cond2 = Tdiff<pd.Timedelta('7 days 00:00:00')\n",
    "    Tcount1 = (cond1 & cond2).sum()\n",
    "    IntersectionBeforeT_RBC_sorted2['Tcount_7d'].iloc[i] = Tcount1\n",
    "    \n",
    "IntersectionBeforeT_RBC_sorted2['Tcount_7d'].isnull().sum()    \n",
    "    \n",
    "    "
   ]
  },
  {
   "cell_type": "code",
   "execution_count": 122,
   "id": "fa3dbdea-05e0-47f5-8120-37e7f11d6622",
   "metadata": {},
   "outputs": [
    {
     "data": {
      "text/plain": [
       "1190    2016-01-01 01:51:00.000\n",
       "1191    2016-01-01 01:52:00.000\n",
       "1192    2016-01-01 02:34:00.000\n",
       "1193    2016-01-01 06:14:00.000\n",
       "1194    2016-01-04 11:25:00.000\n",
       "Name: transfusion_start, dtype: object"
      ]
     },
     "execution_count": 122,
     "metadata": {},
     "output_type": "execute_result"
    }
   ],
   "source": [
    "# est_TT \n",
    "# all_TT_csnn"
   ]
  },
  {
   "cell_type": "code",
   "execution_count": null,
   "id": "481348dc-798d-4921-b87d-1f9db39d7398",
   "metadata": {},
   "outputs": [],
   "source": [
    "IntersectionBeforeT_RBC_sorted2"
   ]
  },
  {
   "cell_type": "code",
   "execution_count": 127,
   "id": "d5723105-1a42-4442-9cf0-bca77e463ae8",
   "metadata": {},
   "outputs": [],
   "source": [
    "IntersectionBeforeT_RBC_sorted2['year'] = IntersectionBeforeT_RBC_sorted2['year'].astype(int)"
   ]
  },
  {
   "cell_type": "markdown",
   "id": "f2912d2b-25f6-401d-b1d4-b6b896a2c8d1",
   "metadata": {},
   "source": [
    "# Checkpoint 1: Save CSV"
   ]
  },
  {
   "cell_type": "code",
   "execution_count": 49,
   "id": "f5e981ce-e453-42a7-bcf8-7511744d4a73",
   "metadata": {},
   "outputs": [],
   "source": [
    "# IntersectionBeforeT_RBC_sorted2.to_csv('DATA_RESULTS/df_GRADY_RBCT_beforeFeat_extraction_v3.csv')\n",
    "\n",
    "\n",
    "\n",
    "\n",
    "\n",
    "# IntersectionBeforeT_RBC_sorted2 = pd.read_csv('DATA_RESULTS/df_GRADY_RBCT_beforeFeat_extraction_v3.csv')"
   ]
  },
  {
   "cell_type": "code",
   "execution_count": 9,
   "id": "874dd53a-f071-4c8b-a943-70d4118757db",
   "metadata": {},
   "outputs": [],
   "source": [
    "''' **Designed for GRADY data** \n",
    "Assumptions are: (i) T: Transfusion time = 4 hrs\n",
    "Before T: 3-24 hrs\n",
    "After T: T+4 to T+4+tau hrs, where tau = 9 \n",
    "Include baseline Hb (as variable) just before the transfusion started'''\n",
    "\n",
    "\n",
    "def vitalsign_feature_extract(csn, year, transT, tau, row_index): #tau = 6 # (in hrs, duration for three afterT segments) 3, 6, 9, 12, 24 for 3 consecutive windows\n",
    "    \n",
    "    #AllFeatureTable = pd.DataFrame([])\n",
    "\n",
    "\n",
    "    ## Assessing super table\n",
    "    pkl_path = '/labs/kamaleswaranlab/MODS/Encounter_Pickles/gr/'+str(year)+'/'+str(csn)+'.pickle'\n",
    "    with open(pkl_path, 'rb') as pf:\n",
    "        patient_enc_dict = pickle.load(pf)\n",
    "    super_table = patient_enc_dict['super_table']\n",
    "    super_table['Time']=super_table.index\n",
    "    \n",
    "    super_table0 = super_table.pop('Time')\n",
    "    super_table.insert(0, 'Time', super_table0) #First column is \"Time\" now [moved from last to first column]\n",
    "    \n",
    "    \n",
    "    super_table.index=np.arange(len(super_table))\n",
    "    super_table.replace([np.inf, -np.inf], np.nan, inplace=True)\n",
    "    #super_table.dropna(subset=super_table.iloc[:,1:].columns, how=\"all\", inplace=True)\n",
    "    \n",
    "    super_table.fio2.loc[super_table.fio2<0.21]=0.21\n",
    "\n",
    "    # SF_ratio = super_table['pf_sp']\n",
    "    hemogb = super_table['hemoglobin']\n",
    "    # PF_ratio = super_table['pf_pa']\n",
    "    spo2 = super_table['spo2']\n",
    "    fio2 = super_table['fio2']\n",
    "    pao2 = super_table['partial_pressure_of_oxygen_(pao2)']\n",
    "\n",
    "    if fio2.isnull().all():\n",
    "        fio2 = 0.21\n",
    "    else:\n",
    "        fio2.fillna(method='ffill', limit=24, inplace=True)\n",
    "        fio2.fillna(method='bfill', limit=24, inplace=True) \n",
    "        \n",
    "    SF_ratio = spo2/fio2\n",
    "    PF_ratio = pao2/fio2\n",
    "    \n",
    "    # super_table.replace([np.inf, -np.inf], np.nan, inplace=True)\n",
    "    # super_table.dropna(subset=super_table.iloc[:,1:].columns, how=\"all\", inplace=True)\n",
    "    \n",
    "    \n",
    "    #Get these measures for beforeT and afterT segments\n",
    "    a = np.array((transT-super_table['Time']).dt.days)\n",
    "    \n",
    "    #Find the sign change to identify transfusion time\n",
    "    id1=np.where(a>=0)\n",
    "    beforeTid = id1[0][-1] #it will throw indexError if id1 is empty \n",
    "    id2=np.where(a<0)\n",
    "    afterTid = id2[0][0] + 4  #Considering 4 hrs of transfusion duration\n",
    "    \n",
    "    #Inter-sample interval is 1 hr in super_table\n",
    "    if beforeTid >= 23: \n",
    "        beforeT_Inds = np.arange(beforeTid-23, beforeTid+1)\n",
    "        Hb_beforeT0 = hemogb[beforeT_Inds]\n",
    "        SF_beforeT0 = SF_ratio[beforeT_Inds]\n",
    "        PF_beforeT0 = PF_ratio[beforeT_Inds]\n",
    "        spo2_beforeT0 = spo2[beforeT_Inds]\n",
    "\n",
    "#         #Removal of NAN entries\n",
    "        Hb_beforeT = Hb_beforeT0[~Hb_beforeT0.isnull()]      #Hb_beforeT0[np.logical_not(np.isnan(Hb_beforeT0))]\n",
    "#         SF_beforeT = SF_beforeT0[~SF_beforeT0.isnull()] \n",
    "#         PF_beforeT = PF_beforeT0[~PF_beforeT0.isnull()] \n",
    "#         spo2_beforeT = spo2_beforeT0[~spo2_beforeT0.isnull()] \n",
    "        \n",
    "        med_Hb_beforeT = Hb_beforeT0.median() #np.median(Hb_beforeT)\n",
    "        med_SF_beforeT = SF_beforeT0.median()\n",
    "        med_PF_beforeT = PF_beforeT0.median()\n",
    "        med_spo2_beforeT = spo2_beforeT0.median()\n",
    "        # print(('loop if '+str(row_index)+'->'+str(np.array(Hb_beforeT0))))\n",
    "        if Hb_beforeT.empty:\n",
    "            Hb = np.nan   ### Baseline Hb just before the transfusion started \n",
    "        else:\n",
    "            Hb = np.array(Hb_beforeT)[-1]   ### Baseline Hb just before the transfusion started \n",
    "        #print(SF_beforeT0) \n",
    "        #print(Hb_beforeT)\n",
    "        # print(('loop if '+str(row_index)))\n",
    "\n",
    "        my_table_BeforeT = pd.DataFrame({'Hb':Hb, 'med_spo2_beforeT':med_spo2_beforeT, 'med_Hb_beforeT':med_Hb_beforeT, \\\n",
    "                                         'med_SF_beforeT':med_SF_beforeT, 'med_PF_beforeT':med_PF_beforeT}, index=[0])\n",
    "        #my_table_BeforeT.reset_index(drop=True, inplace=True)\n",
    "    elif beforeTid > 2 and beforeTid < 23: \n",
    "        # print(('loop elif'+str(row_index)))\n",
    "        beforeT_Inds = np.arange(0, beforeTid+1)\n",
    "        Hb_beforeT0 = hemogb[beforeT_Inds]\n",
    "        SF_beforeT0 = SF_ratio[beforeT_Inds]\n",
    "        PF_beforeT0 = PF_ratio[beforeT_Inds]\n",
    "        spo2_beforeT0 = spo2[beforeT_Inds]\n",
    "        \n",
    "        #Removal of NAN entries\n",
    "        Hb_beforeT = Hb_beforeT0[~Hb_beforeT0.isnull()]      #Hb_beforeT0[np.logical_not(np.isnan(Hb_beforeT0))]\n",
    "#         SF_beforeT = SF_beforeT0[~SF_beforeT0.isnull()] \n",
    "#         PF_beforeT = PF_beforeT0[~PF_beforeT0.isnull()] \n",
    "#         spo2_beforeT = spo2_beforeT0[~spo2_beforeT0.isnull()] \n",
    "\n",
    "        med_Hb_beforeT = Hb_beforeT0.median() #np.median(Hb_beforeT)\n",
    "        med_SF_beforeT = SF_beforeT0.median()\n",
    "        med_PF_beforeT = PF_beforeT0.median()\n",
    "        med_spo2_beforeT = spo2_beforeT0.median()\n",
    "        if Hb_beforeT.empty:\n",
    "            Hb = np.nan   ### Baseline Hb just before the transfusion started \n",
    "        else:\n",
    "            Hb = np.array(Hb_beforeT)[-1]   ### Baseline Hb just before the transfusion started \n",
    "\n",
    "        \n",
    "        #print(SF_beforeT0)         \n",
    "        #print(Hb_beforeT)\n",
    "\n",
    "        my_table_BeforeT = pd.DataFrame({'Hb':Hb, 'med_spo2_beforeT':med_spo2_beforeT, 'med_Hb_beforeT':med_Hb_beforeT, \\\n",
    "                                         'med_SF_beforeT':med_SF_beforeT, 'med_PF_beforeT':med_PF_beforeT}, index=[0])                         \n",
    "        #my_table_BeforeT.reset_index(drop=True, inplace=True)  \n",
    "    else:\n",
    "        my_table_BeforeT = []\n",
    "        #print('Removed')\n",
    "        # print(('loop else'+str(row_index)))\n",
    " \n",
    "    #####-----------------------------------------\n",
    "     \n",
    "    \n",
    "\n",
    "    med_Hb_afterT = []\n",
    "    med_SF_afterT = []\n",
    "    med_PF_afterT = []\n",
    "    med_spo2_afterT = []\n",
    "    for tauId in range(3):\n",
    "        if afterTid+((tauId+1)*tau) <= len(hemogb): # for total tau hrs range post-transfusion\n",
    "            #print('flag1') \n",
    "            afterT_Inds = np.arange(afterTid+(tauId*tau), afterTid+((tauId+1)*tau))\n",
    "            Hb_afterT0 = hemogb[afterT_Inds]\n",
    "            SF_afterT0 = SF_ratio[afterT_Inds]\n",
    "            PF_afterT0 = PF_ratio[afterT_Inds]\n",
    "            spo2_afterT0 = spo2[afterT_Inds]\n",
    "            \n",
    "            \n",
    "\n",
    "            #Removal of NAN entries\n",
    "#             Hb_afterT = Hb_beforeT0[~Hb_beforeT0.isnull()]               #Hb_afterT0[np.logical_not(np.isnan(Hb_afterT0))]\n",
    "#             SF_afterT = SF_afterT0[np.logical_not(np.isnan(SF_afterT0))]\n",
    "#             PF_afterT = PF_afterT0[np.logical_not(np.isnan(PF_afterT0))]\n",
    "#             spo2_afterT = spo2_afterT0[np.logical_not(np.isnan(spo2_afterT0))]            \n",
    "\n",
    "            med_Hb_afterT.append(Hb_afterT0.median())    #med_Hb_afterT.append(np.median(Hb_afterT))\n",
    "            med_SF_afterT.append(SF_afterT0.median())\n",
    "            med_PF_afterT.append(PF_afterT0.median())\n",
    "            med_spo2_afterT.append(spo2_afterT0.median())\n",
    "            \n",
    "        elif afterTid+((tauId+1)*tau) > len(hemogb) and afterTid+((tauId+1)*tau) <= len(hemogb)-3: # for atleast having 3 hrs range post-transfusion\n",
    "            #print('flag2')\n",
    "            afterT_Inds = np.arange(afterTid+(tauId*tau), len(hemogb))\n",
    "            Hb_afterT0 = hemogb[afterT_Inds]\n",
    "            SF_afterT0 = SF_ratio[afterT_Inds]\n",
    "            PF_afterT0 = PF_ratio[afterT_Inds]\n",
    "            spo2_afterT0 = spo2[afterT_Inds]\n",
    "            \n",
    "             \n",
    "\n",
    "#             #Removal of NAN entries\n",
    "#             Hb_afterT = Hb_afterT0[np.logical_not(np.isnan(Hb_afterT0))]\n",
    "#             SF_afterT = SF_afterT0[np.logical_not(np.isnan(SF_afterT0))]\n",
    "#             PF_afterT = PF_afterT0[np.logical_not(np.isnan(PF_afterT0))]\n",
    "#             spo2_afterT = spo2_afterT0[np.logical_not(np.isnan(spo2_afterT0))]            \n",
    "\n",
    "            med_Hb_afterT.append(Hb_afterT0.median())    #med_Hb_afterT.append(np.median(Hb_afterT))\n",
    "            med_SF_afterT.append(SF_afterT0.median())\n",
    "            med_PF_afterT.append(PF_afterT0.median())\n",
    "            med_spo2_afterT.append(spo2_afterT0.median())\n",
    "            \n",
    "        else:\n",
    "            med_Hb_afterT.append(None)\n",
    "            med_SF_afterT.append(None)\n",
    "            med_PF_afterT.append(None)\n",
    "            med_spo2_afterT.append(None)\n",
    "            \n",
    "        \n",
    "        \n",
    "       \n",
    "    \n",
    "    ######-------------------------------------\n",
    "        \n",
    "#     # Tracking missing data at the output (Trying to find the reason of csns reduction after this fun executed)\n",
    "#     csn_yr_Ttime = str(csn)+'/'+str(year)+'/'+str(transT)\n",
    "#     if len(my_table_BeforeT) == 0: \n",
    "#         BeforeT_no3hrsdata = csn_yr_Ttime\n",
    "#     else: \n",
    "#         BeforeT_no3hrsdata = 0\n",
    "#         if pd.isnull(med_Hb_beforeT): med_Hb_beforeT_missing=csn_yr_Ttime\n",
    "#         else: med_Hb_beforeT_missing = 0\n",
    "\n",
    "#         if pd.isnull(med_spo2_beforeT): med_spo2_beforeT_missing=csn_yr_Ttime \n",
    "#         else: med_spo2_beforeT_missing = 0\n",
    "\n",
    "#         if pd.isnull(med_SF_beforeT): med_SF_beforeT_missing=csn_yr_Ttime \n",
    "#         else: med_SF_beforeT_missing = 0\n",
    "\n",
    "#         if pd.isnull(med_PF_beforeT): med_PF_beforeT_missing=csn_yr_Ttime \n",
    "#         else: med_PF_beforeT_missing = 0\n",
    "\n",
    "    \n",
    "#     if all(pd.isnull(med_Hb_afterT)): med_Hb_afterT_all3missing=csn_yr_Ttime \n",
    "#     else: med_Hb_afterT_all3missing = 0\n",
    "    \n",
    "#     if all(pd.isnull(med_spo2_afterT)): med_spo2_afterT_all3missing=csn_yr_Ttime \n",
    "#     else: med_spo2_afterT_all3missing = 0\n",
    "    \n",
    "#     if all(pd.isnull(med_SF_afterT)): med_SF_afterT_all3missing=csn_yr_Ttime \n",
    "#     else: med_SF_afterT_all3missing = 0\n",
    "    \n",
    "#     if all(pd.isnull(med_PF_afterT)): med_PF_afterT_all3missing=csn_yr_Ttime\n",
    "#     else: med_PF_afterT_all3missing = 0    \n",
    "    \n",
    "    \n",
    "    #Discarding patient with no data present beforeT 3hrs window\n",
    "    #and Discarding patient if all afterT features are empty (None/NaN) \n",
    "    Ls = len(my_table_BeforeT)\n",
    "    if Ls>0: #and (not pd.isnull(med_Hb_beforeT)) and (not pd.isnull(med_spo2_beforeT)) and (not pd.isnull(med_SF_beforeT)) and (not pd.isnull(med_PF_beforeT)) and (not all(pd.isnull(med_Hb_afterT))) and (not all(pd.isnull(med_spo2_afterT))) and (not all(pd.isnull(med_SF_afterT))) and (not all(pd.isnull(med_PF_afterT))): \n",
    "        z = pd.DataFrame(IntersectionBeforeT_RBC_sorted2.iloc[row_index]).T\n",
    "        z['discharge_to'] = patient_enc_dict['static_features']['discharge_to']\n",
    "        z['age'] = patient_enc_dict['static_features']['age']\n",
    "        z['gender'] = patient_enc_dict['static_features']['gender']\n",
    "        z['race'] = patient_enc_dict['static_features']['race']\n",
    "        z['ethnicity'] = patient_enc_dict['static_features']['ethnicity'] \n",
    "                \n",
    "        z.reset_index(drop=True, inplace=True)\n",
    "        my_table_BeforeT.reset_index(drop=True, inplace=True)\n",
    "        my_table_BeforeT1 = pd.concat([z, my_table_BeforeT], axis=1)\n",
    "        \n",
    "        MSPO2_afterT1, MSPO2_afterT2, MSPO2_afterT3 = med_spo2_afterT\n",
    "        MHB_afterT1, MHB_afterT2, MHB_afterT3 = med_Hb_afterT\n",
    "        MSF_afterT1, MSF_afterT2, MSF_afterT3 = med_SF_afterT\n",
    "        MPF_afterT1, MPF_afterT2, MPF_afterT3 = med_PF_afterT\n",
    "        my_table_AfterT = pd.DataFrame({'MSPO2_afterT1':MSPO2_afterT1, 'MSPO2_afterT2':MSPO2_afterT2, 'MSPO2_afterT3': MSPO2_afterT3,\n",
    "                                        'MHB_afterT1':MHB_afterT1, 'MHB_afterT2':MHB_afterT2, 'MHB_afterT3': MHB_afterT3,\n",
    "                                        'MSF_afterT1':MSF_afterT1, 'MSF_afterT2':MSF_afterT2, 'MSF_afterT3': MSF_afterT3,\n",
    "                                        'MPF_afterT1':MPF_afterT1, 'MPF_afterT2':MPF_afterT2, 'MPF_afterT3': MPF_afterT3\n",
    "                                       }, index=[0])                         \n",
    "        my_table_BeforeT1.reset_index(drop=True, inplace=True)\n",
    "        my_table_AfterT.reset_index(drop=True, inplace=True)\n",
    "        my_table_BeforeAfterT = pd.concat([my_table_BeforeT1, my_table_AfterT], axis=1)\n",
    "\n",
    "        #AllFeatureTable = AllFeatureTable.append(my_table_BeforeAfterT)\n",
    "        total_eleminated = 0\n",
    "    else:\n",
    "        my_table_BeforeAfterT = []\n",
    "        #total_eleminated = csn_yr_Ttime\n",
    "        \n",
    "        \n",
    "    \n",
    "    # missingD = pd.DataFrame({'total_eleminated':total_eleminated, 'BeforeT_no3hrsdata': BeforeT_no3hrsdata,\n",
    "    #                          'med_Hb_beforeT_missing': med_Hb_beforeT_missing})\n",
    "\n",
    "    return my_table_BeforeAfterT #, missingD\n",
    "        # Hb, med_spo2_beforeT,\\\n",
    "        # med_Hb_beforeT, med_SF_beforeT, med_PF_beforeT, med_spo2_afterT, med_Hb_afterT, med_SF_afterT, med_PF_afterT\n"
   ]
  },
  {
   "cell_type": "code",
   "execution_count": null,
   "id": "cc6204b7-1ea1-4233-baf4-389ea78ae8cd",
   "metadata": {
    "jupyter": {
     "source_hidden": true
    },
    "tags": []
   },
   "outputs": [],
   "source": [
    "# ''' **Designed for EMORY data** \n",
    "# Assumptions are: (i) T: Transfusion time = 4 hrs\n",
    "# Before T: 3-24 hrs\n",
    "# After T: T+4 to T+4+tau hrs, where tau = 9 \n",
    "# Include baseline Hb (as variable) just before the transfusion started'''\n",
    "\n",
    "\n",
    "# def vitalsign_feature_extract(csn, year, transT, tau, row_index): #tau = 6 # (in hrs, duration for three afterT segments) 3, 6, 9, 12, 24 for 3 consecutive windows\n",
    "    \n",
    "#     #AllFeatureTable = pd.DataFrame([])\n",
    "\n",
    "\n",
    "#     ## Assessing super table\n",
    "#     pkl_path = '/labs/kamaleswaranlab/MODS/Encounter_Pickles/em/'+str(year)+'/'+str(csn)+'.pickle'\n",
    "#     with open(pkl_path, 'rb') as pf:\n",
    "#         patient_enc_dict = pickle.load(pf)\n",
    "#     super_table = patient_enc_dict['super_table']\n",
    "#     super_table['Time']=super_table.index\n",
    "    \n",
    "#     super_table0 = super_table.pop('Time')\n",
    "#     super_table.insert(0, 'Time', super_table0) #First column is \"Time\" now [moved from last to first column]\n",
    "    \n",
    "#     super_table.index=np.arange(len(super_table))\n",
    "#     super_table.replace([np.inf, -np.inf], np.nan, inplace=True)\n",
    "#     #super_table.dropna(subset=super_table.iloc[:,1:].columns, how=\"all\", inplace=True)\n",
    "\n",
    "#     SF_ratio = super_table['pf_sp']\n",
    "#     hemogb = super_table['hemoglobin']\n",
    "#     PF_ratio = super_table['pf_pa']\n",
    "#     spo2 = super_table['spo2']\n",
    "\n",
    "#     #Get these measures for beforeT and afterT segments\n",
    "#     a = np.array((transT-super_table['Time']).dt.days)\n",
    "    \n",
    "\n",
    "#     #Find the sign change to identify transfusion time\n",
    "#     id1=np.where(a>=0)\n",
    "#     beforeTid = id1[0][-1]\n",
    "#     id2=np.where(a<0)\n",
    "#     afterTid = id2[0][0] + 4  #Considering 4 hrs of transfusion duration\n",
    "    \n",
    "#     #Inter-sample interval is 1 hr in super_table\n",
    "#     if beforeTid >= 23: \n",
    "#         beforeT_Inds = np.arange(beforeTid-23, beforeTid+1)\n",
    "#         Hb_beforeT0 = hemogb[beforeT_Inds]\n",
    "#         SF_beforeT0 = SF_ratio[beforeT_Inds]\n",
    "#         PF_beforeT0 = PF_ratio[beforeT_Inds]\n",
    "#         spo2_beforeT0 = spo2[beforeT_Inds]\n",
    "\n",
    "# #         #Removal of NAN entries\n",
    "#         Hb_beforeT = Hb_beforeT0[~Hb_beforeT0.isnull()]      #Hb_beforeT0[np.logical_not(np.isnan(Hb_beforeT0))]\n",
    "# #         SF_beforeT = SF_beforeT0[~SF_beforeT0.isnull()] \n",
    "# #         PF_beforeT = PF_beforeT0[~PF_beforeT0.isnull()] \n",
    "# #         spo2_beforeT = spo2_beforeT0[~spo2_beforeT0.isnull()] \n",
    "\n",
    "#         med_Hb_beforeT = Hb_beforeT0.median() #np.median(Hb_beforeT)\n",
    "#         med_SF_beforeT = SF_beforeT0.median()\n",
    "#         med_PF_beforeT = PF_beforeT0.median()\n",
    "#         med_spo2_beforeT = spo2_beforeT0.median()\n",
    "#         Hb = np.array(Hb_beforeT)[-1]   ### Baseline Hb just before the transfusion started \n",
    "#         #print(SF_beforeT0) \n",
    "        \n",
    "#         #print(Hb_beforeT)\n",
    "\n",
    "#         my_table_BeforeT = pd.DataFrame({'Hb':Hb, 'med_spo2_beforeT':med_spo2_beforeT, 'med_Hb_beforeT':med_Hb_beforeT, \\\n",
    "#                                          'med_SF_beforeT':med_SF_beforeT, 'med_PF_beforeT':med_PF_beforeT}, index=[0])\n",
    "#         #my_table_BeforeT.reset_index(drop=True, inplace=True)\n",
    "#     elif beforeTid > 2 and beforeTid < 23: \n",
    "#         beforeT_Inds = np.arange(0, beforeTid+1)\n",
    "#         Hb_beforeT0 = hemogb[beforeT_Inds]\n",
    "#         SF_beforeT0 = SF_ratio[beforeT_Inds]\n",
    "#         PF_beforeT0 = PF_ratio[beforeT_Inds]\n",
    "#         spo2_beforeT0 = spo2[beforeT_Inds]\n",
    "        \n",
    "#         #Removal of NAN entries\n",
    "#         Hb_beforeT = Hb_beforeT0[~Hb_beforeT0.isnull()]      #Hb_beforeT0[np.logical_not(np.isnan(Hb_beforeT0))]\n",
    "# #         SF_beforeT = SF_beforeT0[~SF_beforeT0.isnull()] \n",
    "# #         PF_beforeT = PF_beforeT0[~PF_beforeT0.isnull()] \n",
    "# #         spo2_beforeT = spo2_beforeT0[~spo2_beforeT0.isnull()] \n",
    "\n",
    "#         med_Hb_beforeT = Hb_beforeT0.median() #np.median(Hb_beforeT)\n",
    "#         med_SF_beforeT = SF_beforeT0.median()\n",
    "#         med_PF_beforeT = PF_beforeT0.median()\n",
    "#         med_spo2_beforeT = spo2_beforeT0.median()\n",
    "#         Hb = np.array(Hb_beforeT)[-1]   ### Baseline Hb just before the transfusion started \n",
    "\n",
    "        \n",
    "#         #print(SF_beforeT0) \n",
    "        \n",
    "#         #print(Hb_beforeT)\n",
    "\n",
    "#         my_table_BeforeT = pd.DataFrame({'Hb':Hb, 'med_spo2_beforeT':med_spo2_beforeT, 'med_Hb_beforeT':med_Hb_beforeT, \\\n",
    "#                                          'med_SF_beforeT':med_SF_beforeT, 'med_PF_beforeT':med_PF_beforeT}, index=[0])                         \n",
    "#         #my_table_BeforeT.reset_index(drop=True, inplace=True)                                 \n",
    "#     else:\n",
    "#         my_table_BeforeT = []\n",
    "#         #print('Removed')\n",
    " \n",
    "#     #####-----------------------------------------\n",
    "     \n",
    "   \n",
    "\n",
    "#     med_Hb_afterT = []\n",
    "#     med_SF_afterT = []\n",
    "#     med_PF_afterT = []\n",
    "#     med_spo2_afterT = []\n",
    "#     for tauId in range(3):\n",
    "#         if afterTid+((tauId+1)*tau) <= len(hemogb): # for total tau hrs range post-transfusion\n",
    "#             #print('flag1') \n",
    "#             afterT_Inds = np.arange(afterTid+(tauId*tau), afterTid+((tauId+1)*tau))\n",
    "#             Hb_afterT0 = hemogb[afterT_Inds]\n",
    "#             SF_afterT0 = SF_ratio[afterT_Inds]\n",
    "#             PF_afterT0 = PF_ratio[afterT_Inds]\n",
    "#             spo2_afterT0 = spo2[afterT_Inds]\n",
    "            \n",
    "            \n",
    "\n",
    "#             #Removal of NAN entries\n",
    "# #             Hb_afterT = Hb_beforeT0[~Hb_beforeT0.isnull()]               #Hb_afterT0[np.logical_not(np.isnan(Hb_afterT0))]\n",
    "# #             SF_afterT = SF_afterT0[np.logical_not(np.isnan(SF_afterT0))]\n",
    "# #             PF_afterT = PF_afterT0[np.logical_not(np.isnan(PF_afterT0))]\n",
    "# #             spo2_afterT = spo2_afterT0[np.logical_not(np.isnan(spo2_afterT0))]            \n",
    "\n",
    "#             med_Hb_afterT.append(Hb_afterT0.median())    #med_Hb_afterT.append(np.median(Hb_afterT))\n",
    "#             med_SF_afterT.append(SF_afterT0.median())\n",
    "#             med_PF_afterT.append(PF_afterT0.median())\n",
    "#             med_spo2_afterT.append(spo2_afterT0.median())\n",
    "            \n",
    "#         elif afterTid+((tauId+1)*tau) > len(hemogb) and afterTid+((tauId+1)*tau) <= len(hemogb)-3: # for atleast having 3 hrs range post-transfusion\n",
    "#             #print('flag2')\n",
    "#             afterT_Inds = np.arange(afterTid+(tauId*tau), len(hemogb))\n",
    "#             Hb_afterT0 = hemogb[afterT_Inds]\n",
    "#             SF_afterT0 = SF_ratio[afterT_Inds]\n",
    "#             PF_afterT0 = PF_ratio[afterT_Inds]\n",
    "#             spo2_afterT0 = spo2[afterT_Inds]\n",
    "            \n",
    "             \n",
    "\n",
    "# #             #Removal of NAN entries\n",
    "# #             Hb_afterT = Hb_afterT0[np.logical_not(np.isnan(Hb_afterT0))]\n",
    "# #             SF_afterT = SF_afterT0[np.logical_not(np.isnan(SF_afterT0))]\n",
    "# #             PF_afterT = PF_afterT0[np.logical_not(np.isnan(PF_afterT0))]\n",
    "# #             spo2_afterT = spo2_afterT0[np.logical_not(np.isnan(spo2_afterT0))]            \n",
    "\n",
    "#             med_Hb_afterT.append(Hb_afterT0.median())    #med_Hb_afterT.append(np.median(Hb_afterT))\n",
    "#             med_SF_afterT.append(SF_afterT0.median())\n",
    "#             med_PF_afterT.append(PF_afterT0.median())\n",
    "#             med_spo2_afterT.append(spo2_afterT0.median())\n",
    "            \n",
    "#         else:\n",
    "#             med_Hb_afterT.append(None)\n",
    "#             med_SF_afterT.append(None)\n",
    "#             med_PF_afterT.append(None)\n",
    "#             med_spo2_afterT.append(None)\n",
    "            \n",
    "        \n",
    "        \n",
    "       \n",
    "    \n",
    "#     ######-------------------------------------\n",
    "        \n",
    "# #     # Tracking missing data at the output (Trying to find the reason of csns reduction after this fun executed)\n",
    "# #     csn_yr_Ttime = str(csn)+'/'+str(year)+'/'+str(transT)\n",
    "# #     if len(my_table_BeforeT) == 0: \n",
    "# #         BeforeT_no3hrsdata = csn_yr_Ttime\n",
    "# #     else: \n",
    "# #         BeforeT_no3hrsdata = 0\n",
    "# #         if pd.isnull(med_Hb_beforeT): med_Hb_beforeT_missing=csn_yr_Ttime\n",
    "# #         else: med_Hb_beforeT_missing = 0\n",
    "\n",
    "# #         if pd.isnull(med_spo2_beforeT): med_spo2_beforeT_missing=csn_yr_Ttime \n",
    "# #         else: med_spo2_beforeT_missing = 0\n",
    "\n",
    "# #         if pd.isnull(med_SF_beforeT): med_SF_beforeT_missing=csn_yr_Ttime \n",
    "# #         else: med_SF_beforeT_missing = 0\n",
    "\n",
    "# #         if pd.isnull(med_PF_beforeT): med_PF_beforeT_missing=csn_yr_Ttime \n",
    "# #         else: med_PF_beforeT_missing = 0\n",
    "\n",
    "    \n",
    "# #     if all(pd.isnull(med_Hb_afterT)): med_Hb_afterT_all3missing=csn_yr_Ttime \n",
    "# #     else: med_Hb_afterT_all3missing = 0\n",
    "    \n",
    "# #     if all(pd.isnull(med_spo2_afterT)): med_spo2_afterT_all3missing=csn_yr_Ttime \n",
    "# #     else: med_spo2_afterT_all3missing = 0\n",
    "    \n",
    "# #     if all(pd.isnull(med_SF_afterT)): med_SF_afterT_all3missing=csn_yr_Ttime \n",
    "# #     else: med_SF_afterT_all3missing = 0\n",
    "    \n",
    "# #     if all(pd.isnull(med_PF_afterT)): med_PF_afterT_all3missing=csn_yr_Ttime\n",
    "# #     else: med_PF_afterT_all3missing = 0    \n",
    "    \n",
    "    \n",
    "#     #Discarding patient with no data present beforeT 3hrs window\n",
    "#     #and Discarding patient if all afterT features are empty (None/NaN) \n",
    "#     Ls = len(my_table_BeforeT)\n",
    "#     if Ls>0 and (not pd.isnull(med_Hb_beforeT)) and (not pd.isnull(med_spo2_beforeT)) and (not pd.isnull(med_SF_beforeT)) and (not pd.isnull(med_PF_beforeT)) and (not all(pd.isnull(med_Hb_afterT))) and (not all(pd.isnull(med_spo2_afterT))) and (not all(pd.isnull(med_SF_afterT))) and (not all(pd.isnull(med_PF_afterT))): \n",
    "#         z = pd.DataFrame(IntersectionBeforeT_RBC_sorted2.iloc[row_index]).T\n",
    "#         z['discharge_to'] = patient_enc_dict['static_features']['discharge_to']\n",
    "#         z['age'] = patient_enc_dict['static_features']['age']\n",
    "#         z['gender'] = patient_enc_dict['static_features']['gender']\n",
    "#         z['race'] = patient_enc_dict['static_features']['race']\n",
    "#         z['ethnicity'] = patient_enc_dict['static_features']['ethnicity'] \n",
    "                \n",
    "#         z.reset_index(drop=True, inplace=True)\n",
    "#         my_table_BeforeT.reset_index(drop=True, inplace=True)\n",
    "#         my_table_BeforeT1 = pd.concat([z, my_table_BeforeT], axis=1)\n",
    "        \n",
    "#         MSPO2_afterT1, MSPO2_afterT2, MSPO2_afterT3 = med_spo2_afterT\n",
    "#         MHB_afterT1, MHB_afterT2, MHB_afterT3 = med_Hb_afterT\n",
    "#         MSF_afterT1, MSF_afterT2, MSF_afterT3 = med_SF_afterT\n",
    "#         MPF_afterT1, MPF_afterT2, MPF_afterT3 = med_PF_afterT\n",
    "#         my_table_AfterT = pd.DataFrame({'MSPO2_afterT1':MSPO2_afterT1, 'MSPO2_afterT2':MSPO2_afterT2, 'MSPO2_afterT3': MSPO2_afterT3,\n",
    "#                                         'MHB_afterT1':MHB_afterT1, 'MHB_afterT2':MHB_afterT2, 'MHB_afterT3': MHB_afterT3,\n",
    "#                                         'MSF_afterT1':MSF_afterT1, 'MSF_afterT2':MSF_afterT2, 'MSF_afterT3': MSF_afterT3,\n",
    "#                                         'MPF_afterT1':MPF_afterT1, 'MPF_afterT2':MPF_afterT2, 'MPF_afterT3': MPF_afterT3\n",
    "#                                        }, index=[0])                         \n",
    "#         my_table_BeforeT1.reset_index(drop=True, inplace=True)\n",
    "#         my_table_AfterT.reset_index(drop=True, inplace=True)\n",
    "#         my_table_BeforeAfterT = pd.concat([my_table_BeforeT1, my_table_AfterT], axis=1)\n",
    "\n",
    "#         #AllFeatureTable = AllFeatureTable.append(my_table_BeforeAfterT)\n",
    "#         total_eleminated = 0\n",
    "#     else:\n",
    "#         my_table_BeforeAfterT = []\n",
    "#         #total_eleminated = csn_yr_Ttime\n",
    "        \n",
    "        \n",
    "    \n",
    "#     # missingD = pd.DataFrame({'total_eleminated':total_eleminated, 'BeforeT_no3hrsdata': BeforeT_no3hrsdata,\n",
    "#     #                          'med_Hb_beforeT_missing': med_Hb_beforeT_missing})\n",
    "\n",
    "#     return my_table_BeforeAfterT #, missingD\n",
    "#         # Hb, med_spo2_beforeT,\\\n",
    "#         # med_Hb_beforeT, med_SF_beforeT, med_PF_beforeT, med_spo2_afterT, med_Hb_afterT, med_SF_afterT, med_PF_afterT\n"
   ]
  },
  {
   "cell_type": "code",
   "execution_count": 10,
   "id": "9e5a54be-11d1-42e7-a76c-0252f28438d4",
   "metadata": {},
   "outputs": [
    {
     "name": "stdout",
     "output_type": "stream",
     "text": [
      "6894\n"
     ]
    }
   ],
   "source": [
    "tau = 9 #int(input('Enter tau = ')) #(in hrs, duration for three afterT segments) 3, 6, 9, 12, 24 for three consecutive windows\n",
    "\n",
    "L = len(IntersectionBeforeT_RBC_sorted2)\n",
    "print(L)"
   ]
  },
  {
   "cell_type": "code",
   "execution_count": 12,
   "id": "790e72ad-fed7-4157-a55c-968cf425fdc3",
   "metadata": {
    "tags": []
   },
   "outputs": [
    {
     "name": "stdout",
     "output_type": "stream",
     "text": [
      "Completed in: 90.8263647556305 sec\n"
     ]
    }
   ],
   "source": [
    "##Using Parallelization: Multiprocessing\n",
    "\n",
    "t1 = time.time()\n",
    "def f1(i):\n",
    "    #for i,csn in tqdm(enumerate(IntersectionBeforeDuringAfter_RBC['csn'] )):  #.iloc[:3]\n",
    "    AllFeatureTable = pd.DataFrame([])\n",
    "    missingdata = pd.DataFrame([])\n",
    "    try: \n",
    "        transT = pd.to_datetime(IntersectionBeforeT_RBC_sorted2.iloc[i]['transfusion_start'])\n",
    "        year = pd.to_datetime(IntersectionBeforeT_RBC_sorted2.iloc[i]['transfusion_start']).year #dt.year\n",
    "        csn = IntersectionBeforeT_RBC_sorted2.iloc[i]['csn']\n",
    "        \n",
    "\n",
    "        my_table_BeforeAfterT = vitalsign_feature_extract(csn, year, transT, tau, row_index=i) #, missingD\n",
    "        #print(AllFeatureTable)\n",
    "        \n",
    "        # print(('try '+str(i)))\n",
    "        \n",
    "        AllFeatureTable = AllFeatureTable.append(my_table_BeforeAfterT)\n",
    "        #missingdata.append(missingD)\n",
    "            \n",
    "    except IndexError:\n",
    "        # print(('IndexError '+str(i)))\n",
    "        pass\n",
    "        #IndexErrorCases.append(i) #Record number\n",
    "    except ValueError:\n",
    "        # print(('ValueError '+str(i)))\n",
    "        pass\n",
    "        #ValueErrorCases.append(i)\n",
    "    except FileNotFoundError:\n",
    "        # print(('FileNotFoundError '+str(i)))\n",
    "        pass\n",
    "    except EOFError:\n",
    "        print(('EOFerror '+str(i)))\n",
    "        pass\n",
    "        #FileNotFoundErrorCases.append(i)\n",
    "    except pickle.UnpicklingError:\n",
    "        print(('UnpicklingError '+str(i)))\n",
    "        pass\n",
    "    # except TypeError:\n",
    "    #     print('TypeError')\n",
    "    #     pass\n",
    "    \n",
    "    return AllFeatureTable #, missingdata\n",
    "\n",
    "\n",
    "p1 = Pool(12)\n",
    "\n",
    "# LLL=[0, 1, 2, 3, 4, 5, 19679, 18067, 19189, 20703]\n",
    "results1 = p1.map(f1, range(L))  #range(L)\n",
    "# results1, DF2 = zip(*p1.map(f1, range(10)))  #range(L)\n",
    "p1.close()\n",
    "p1.join()        \n",
    "medianAllFeatureTable = pd.concat(results1, ignore_index=True)\n",
    "# missing_Data = pd.concat(DF2, ignore_index=True)\n",
    "t2 = time.time()\n",
    "print('Completed in: %s sec'%(t2 - t1)) \n"
   ]
  },
  {
   "cell_type": "code",
   "execution_count": null,
   "id": "623afdc9-1652-4df4-8bc0-da73f5435f92",
   "metadata": {},
   "outputs": [],
   "source": [
    "medianAllFeatureTable"
   ]
  },
  {
   "cell_type": "markdown",
   "id": "a978f380-13f7-4f92-8b88-20571d282c7f",
   "metadata": {},
   "source": [
    "# Checkpoint 2: Save CSV"
   ]
  },
  {
   "cell_type": "code",
   "execution_count": 16,
   "id": "e649a9ca-18a7-4475-91b5-053b581a010c",
   "metadata": {},
   "outputs": [],
   "source": [
    "# medianAllFeatureTable.to_csv('DATA_RESULTS/df_GRADY_RBCT_extractedFeat_NoImputation_tau9_v3.csv')\n",
    "\n",
    "\n",
    "\n",
    "\n",
    "\n",
    "\n",
    "\n",
    "# medianAllFeatureTable = pd.read_csv('DATA_RESULTS/df_GRADY_RBCT_extractedFeat_NoImputation_tau9_v3.csv')"
   ]
  },
  {
   "cell_type": "code",
   "execution_count": 17,
   "id": "bfbf77d9-df64-4b6a-ac48-fd12f9092d0c",
   "metadata": {},
   "outputs": [
    {
     "data": {
      "text/plain": [
       "Hb                    21\n",
       "med_spo2_beforeT       6\n",
       "med_Hb_beforeT        21\n",
       "med_SF_beforeT       909\n",
       "med_PF_beforeT      3267\n",
       "MSPO2_afterT1         94\n",
       "MSPO2_afterT2        189\n",
       "MSPO2_afterT3        296\n",
       "MHB_afterT1          113\n",
       "MHB_afterT2          217\n",
       "MHB_afterT3          331\n",
       "MSF_afterT1         1005\n",
       "MSF_afterT2         1060\n",
       "MSF_afterT3         1169\n",
       "MPF_afterT1         3436\n",
       "MPF_afterT2         3511\n",
       "MPF_afterT3         3708\n",
       "dtype: int64"
      ]
     },
     "execution_count": 17,
     "metadata": {},
     "output_type": "execute_result"
    }
   ],
   "source": [
    "medianAllFeatureTable.loc[:,'Hb':].isnull().sum()"
   ]
  },
  {
   "cell_type": "code",
   "execution_count": 18,
   "id": "ff106444-6f94-4d1a-8d2d-41143df8d7ed",
   "metadata": {},
   "outputs": [
    {
     "data": {
      "text/plain": [
       "Unnamed: 0                       object\n",
       "pat_id                           object\n",
       "csn                              object\n",
       "age_yrs                          object\n",
       "transfusion_start                object\n",
       "transfusion_end                  object\n",
       "blood_product_name               object\n",
       "hospital_admission_date_time     object\n",
       "hospital_discharge_date_time     object\n",
       "unit                             object\n",
       "year                             object\n",
       "Arb                              object\n",
       "Tcount_7d                        object\n",
       "discharge_to                     object\n",
       "age                             float64\n",
       "gender                           object\n",
       "race                             object\n",
       "ethnicity                        object\n",
       "Hb                              float64\n",
       "med_spo2_beforeT                float64\n",
       "med_Hb_beforeT                  float64\n",
       "med_SF_beforeT                  float64\n",
       "med_PF_beforeT                  float64\n",
       "MSPO2_afterT1                    object\n",
       "MSPO2_afterT2                    object\n",
       "MSPO2_afterT3                    object\n",
       "MHB_afterT1                      object\n",
       "MHB_afterT2                      object\n",
       "MHB_afterT3                      object\n",
       "MSF_afterT1                      object\n",
       "MSF_afterT2                      object\n",
       "MSF_afterT3                      object\n",
       "MPF_afterT1                      object\n",
       "MPF_afterT2                      object\n",
       "MPF_afterT3                      object\n",
       "dtype: object"
      ]
     },
     "execution_count": 18,
     "metadata": {},
     "output_type": "execute_result"
    }
   ],
   "source": [
    "medianAllFeatureTable.dtypes"
   ]
  },
  {
   "cell_type": "code",
   "execution_count": 19,
   "id": "d11883ab-e114-4fdc-8bfb-3232e2c94e27",
   "metadata": {},
   "outputs": [],
   "source": [
    "# del medianAllFeatureTable"
   ]
  },
  {
   "cell_type": "code",
   "execution_count": 20,
   "id": "55573d56-5069-437c-a27e-4e54e06edd0a",
   "metadata": {},
   "outputs": [
    {
     "name": "stdout",
     "output_type": "stream",
     "text": [
      "Unnamed: 0 0\n",
      "pat_id 0\n",
      "csn 0\n",
      "age_yrs 0\n",
      "transfusion_start 0\n",
      "transfusion_end 410\n",
      "blood_product_name 0\n",
      "hospital_admission_date_time 0\n",
      "hospital_discharge_date_time 0\n",
      "unit 0\n",
      "year 0\n",
      "Arb 0\n",
      "Tcount_7d 0\n",
      "discharge_to 5689\n",
      "age 0\n",
      "gender 0\n",
      "race 0\n",
      "ethnicity 0\n",
      "Hb 21\n",
      "med_spo2_beforeT 6\n",
      "med_Hb_beforeT 21\n",
      "med_SF_beforeT 909\n",
      "med_PF_beforeT 3267\n",
      "MSPO2_afterT1 94\n",
      "MSPO2_afterT2 189\n",
      "MSPO2_afterT3 296\n",
      "MHB_afterT1 113\n",
      "MHB_afterT2 217\n",
      "MHB_afterT3 331\n",
      "MSF_afterT1 1005\n",
      "MSF_afterT2 1060\n",
      "MSF_afterT3 1169\n",
      "MPF_afterT1 3436\n",
      "MPF_afterT2 3511\n",
      "MPF_afterT3 3708\n"
     ]
    }
   ],
   "source": [
    "'''\n",
    "Missing values (%)\n",
    "'''\n",
    "for i in medianAllFeatureTable.columns:\n",
    "    print(i, medianAllFeatureTable[i].isnull().sum()) #/medianAllFeatureTable.shape[0]*100)"
   ]
  },
  {
   "cell_type": "code",
   "execution_count": 21,
   "id": "23b88481-4000-4b4b-ae20-cf34c4f16481",
   "metadata": {},
   "outputs": [
    {
     "name": "stderr",
     "output_type": "stream",
     "text": [
      "100%|██████████| 17/17 [00:00<00:00, 424.57it/s]\n"
     ]
    }
   ],
   "source": [
    "# fio2.fillna(method='ffill', limit=24, inplace=True)\n",
    "medI_medianAllFeatureTable = medianAllFeatureTable\n",
    "indx = list(medI_medianAllFeatureTable.columns).index('Hb')\n",
    "for k in tqdm(range(indx,len(medI_medianAllFeatureTable.columns))):\n",
    "    medI_medianAllFeatureTable.iloc[:,k].fillna(medI_medianAllFeatureTable.iloc[:,k].median(), inplace=True)"
   ]
  },
  {
   "cell_type": "code",
   "execution_count": 22,
   "id": "113263f1-001b-42af-b80d-09f355490b06",
   "metadata": {},
   "outputs": [
    {
     "name": "stdout",
     "output_type": "stream",
     "text": [
      "Unnamed: 0 0\n",
      "pat_id 0\n",
      "csn 0\n",
      "age_yrs 0\n",
      "transfusion_start 0\n",
      "transfusion_end 410\n",
      "blood_product_name 0\n",
      "hospital_admission_date_time 0\n",
      "hospital_discharge_date_time 0\n",
      "unit 0\n",
      "year 0\n",
      "Arb 0\n",
      "Tcount_7d 0\n",
      "discharge_to 5689\n",
      "age 0\n",
      "gender 0\n",
      "race 0\n",
      "ethnicity 0\n",
      "Hb 0\n",
      "med_spo2_beforeT 6\n",
      "med_Hb_beforeT 21\n",
      "med_SF_beforeT 909\n",
      "med_PF_beforeT 3267\n",
      "MSPO2_afterT1 0\n",
      "MSPO2_afterT2 0\n",
      "MSPO2_afterT3 0\n",
      "MHB_afterT1 0\n",
      "MHB_afterT2 0\n",
      "MHB_afterT3 0\n",
      "MSF_afterT1 0\n",
      "MSF_afterT2 0\n",
      "MSF_afterT3 0\n",
      "MPF_afterT1 0\n",
      "MPF_afterT2 0\n",
      "MPF_afterT3 0\n"
     ]
    }
   ],
   "source": [
    "for i in medI_medianAllFeatureTable.columns:\n",
    "    print(i, medI_medianAllFeatureTable[i].isnull().sum())#/medI_medianAllFeatureTable.shape[0])"
   ]
  },
  {
   "cell_type": "code",
   "execution_count": 23,
   "id": "365820e4-4dab-4cd8-999d-62dd87506380",
   "metadata": {},
   "outputs": [
    {
     "data": {
      "text/plain": [
       "83      99.0\n",
       "632     99.0\n",
       "934     99.0\n",
       "1724    99.0\n",
       "2711    99.0\n",
       "2712    99.0\n",
       "Name: med_spo2_beforeT, dtype: float64"
      ]
     },
     "execution_count": 23,
     "metadata": {},
     "output_type": "execute_result"
    }
   ],
   "source": [
    "medI_medianAllFeatureTable[medI_medianAllFeatureTable.med_spo2_beforeT.isnull()].med_spo2_beforeT"
   ]
  },
  {
   "cell_type": "code",
   "execution_count": null,
   "id": "15e7524f-02dd-4741-b0cb-13309765426d",
   "metadata": {},
   "outputs": [],
   "source": [
    "medI_medianAllFeatureTable"
   ]
  },
  {
   "cell_type": "code",
   "execution_count": null,
   "id": "0e97fc8f-cb5d-4206-aaa9-869bec7bbb4a",
   "metadata": {},
   "outputs": [],
   "source": []
  },
  {
   "cell_type": "code",
   "execution_count": null,
   "id": "42b4555f-0c5d-415d-ae0e-bd01b25f0bdc",
   "metadata": {},
   "outputs": [],
   "source": []
  },
  {
   "cell_type": "code",
   "execution_count": 25,
   "id": "c26960f7-e1b2-465d-aec9-6d82d11db0b8",
   "metadata": {},
   "outputs": [],
   "source": [
    "def delta_calc(df):\n",
    "    df['del_SPO2_1']=df['MSPO2_afterT1'] - df['med_spo2_beforeT']\n",
    "    df['del_SPO2_2']=df['MSPO2_afterT2'] - df['med_spo2_beforeT']\n",
    "    df['del_SPO2_3']=df['MSPO2_afterT3'] - df['med_spo2_beforeT']\n",
    "\n",
    "    df['del_Hb_1']=df['MHB_afterT1'] - df['med_Hb_beforeT']\n",
    "    df['del_Hb_2']=df['MHB_afterT2'] - df['med_Hb_beforeT']\n",
    "    df['del_Hb_3']=df['MHB_afterT3'] - df['med_Hb_beforeT']\n",
    "\n",
    "    df['del_SF_1']=df['MSF_afterT1'] - df['med_SF_beforeT']\n",
    "    df['del_SF_2']=df['MSF_afterT2'] - df['med_SF_beforeT']\n",
    "    df['del_SF_3']=df['MSF_afterT3'] - df['med_SF_beforeT']\n",
    "\n",
    "    df['del_PF_1']=df['MPF_afterT1'] - df['med_PF_beforeT']\n",
    "    df['del_PF_2']=df['MPF_afterT2'] - df['med_PF_beforeT']\n",
    "    df['del_PF_3']=df['MPF_afterT3'] - df['med_PF_beforeT']\n",
    "    return df"
   ]
  },
  {
   "cell_type": "code",
   "execution_count": 26,
   "id": "af6b6336-c5f0-4f4e-926f-1417b1760e88",
   "metadata": {},
   "outputs": [],
   "source": [
    "medianAllFeatureTable = delta_calc(medianAllFeatureTable)"
   ]
  },
  {
   "cell_type": "code",
   "execution_count": 27,
   "id": "bb813401-1ab0-4546-a979-8b11851ec6d2",
   "metadata": {},
   "outputs": [],
   "source": [
    "medI_medianAllFeatureTable = delta_calc(medI_medianAllFeatureTable)"
   ]
  },
  {
   "cell_type": "code",
   "execution_count": 28,
   "id": "7611d258-ebdb-4168-8233-7b6ff57dcc54",
   "metadata": {},
   "outputs": [
    {
     "data": {
      "text/plain": [
       "(6375, 47)"
      ]
     },
     "execution_count": 28,
     "metadata": {},
     "output_type": "execute_result"
    }
   ],
   "source": [
    "medI_medianAllFeatureTable.shape"
   ]
  },
  {
   "cell_type": "code",
   "execution_count": 29,
   "id": "23a605d3-6f7f-496d-b810-2b8536b4b6c0",
   "metadata": {},
   "outputs": [
    {
     "data": {
      "text/plain": [
       "3757"
      ]
     },
     "execution_count": 29,
     "metadata": {},
     "output_type": "execute_result"
    }
   ],
   "source": [
    "len(medI_medianAllFeatureTable['csn'].unique())"
   ]
  },
  {
   "cell_type": "code",
   "execution_count": 31,
   "id": "4f320006-7264-4e32-a387-8fd64060de84",
   "metadata": {},
   "outputs": [
    {
     "data": {
      "text/plain": [
       "3552"
      ]
     },
     "execution_count": 31,
     "metadata": {},
     "output_type": "execute_result"
    }
   ],
   "source": [
    "len(medI_medianAllFeatureTable['pat_id'].unique())"
   ]
  },
  {
   "cell_type": "markdown",
   "id": "6b0ca8dc-bab7-4465-8f4f-c1e45896ec1a",
   "metadata": {},
   "source": [
    "# Checkpoint 3: **writing in CSV**"
   ]
  },
  {
   "cell_type": "code",
   "execution_count": 32,
   "id": "5ee2782f-9f90-4fa7-862d-6121ccd3c49e",
   "metadata": {},
   "outputs": [],
   "source": [
    "# #writing in CSV\n",
    "# medI_medianAllFeatureTable.to_csv('DATA_RESULTS/df_GRADY_RBCT_extractedFeat_medImputated_tau9_v3.csv')\n",
    "# medianAllFeatureTable.to_csv('DATA_RESULTS/df_GRADY_RBCT_extractedFeat_NoImputated_tau9_v3.csv')\n",
    "\n",
    "\n",
    "\n",
    "\n",
    "\n",
    "\n",
    "\n",
    "\n",
    "\n"
   ]
  },
  {
   "cell_type": "code",
   "execution_count": 33,
   "id": "93b17edb-43d4-4ae8-a133-cdd7259ebab2",
   "metadata": {},
   "outputs": [
    {
     "data": {
      "text/plain": [
       "Text(0, 0.5, 'AfterT3 $\\\\Delta$Hb (g/dL)')"
      ]
     },
     "execution_count": 33,
     "metadata": {},
     "output_type": "execute_result"
    },
    {
     "data": {
      "image/png": "[encoded data removed]",
      "text/plain": [
       "<Figure size 1296x288 with 3 Axes>"
      ]
     },
     "metadata": {
      "needs_background": "light"
     },
     "output_type": "display_data"
    }
   ],
   "source": [
    "fig, axs = plt.subplots(1, 3, figsize =(18, 4))\n",
    "\n",
    "axs[0].scatter(medI_medianAllFeatureTable['del_SPO2_1'], medI_medianAllFeatureTable['del_Hb_1'],color='black')\n",
    "axs[0].set_title('$\\Delta$SpO$_2$ vs $\\Delta$Hb: Red cells transfusion patients (\\u03C4=9hrs)')\n",
    "axs[0].set_xlabel('AfterT1 $\\Delta$SpO$_2 (\\%)$')\n",
    "axs[0].set_ylabel('AfterT1 $\\Delta$Hb (g/dL)')\n",
    "\n",
    "axs[1].scatter(medI_medianAllFeatureTable['del_SPO2_2'], medI_medianAllFeatureTable['del_Hb_2'],color='black')\n",
    "axs[1].set_title('$\\Delta$SpO$_2$ vs $\\Delta$Hb: Red cells transfusion patients (\\u03C4=9hrs)')\n",
    "axs[1].set_xlabel('AfterT2 $\\Delta$SpO$_2 (\\%)$')\n",
    "axs[1].set_ylabel('AfterT2 $\\Delta$Hb (g/dL)')\n",
    "\n",
    "axs[2].scatter(medI_medianAllFeatureTable['del_SPO2_3'], medI_medianAllFeatureTable['del_Hb_3'],color='black')\n",
    "axs[2].set_title('$\\Delta$SpO$_2$ vs $\\Delta$Hb: Red cells transfusion patients (\\u03C4=9hrs)')\n",
    "axs[2].set_xlabel('AfterT3 $\\Delta$SpO$_2 (\\%)$')\n",
    "axs[2].set_ylabel('AfterT3 $\\Delta$Hb (g/dL)')\n",
    "\n",
    "# plt.savefig(\"DATA_RESULTS/delSpO2vsdelHb_RedCellsT.eps\", format=\"eps\", bbox_inches=\"tight\", dpi=300)\n"
   ]
  },
  {
   "cell_type": "code",
   "execution_count": 34,
   "id": "4e13c88a-f270-4794-999b-8d7d7e54fe7b",
   "metadata": {},
   "outputs": [
    {
     "data": {
      "text/plain": [
       "Text(0, 0.5, 'Hb (g/dL) just before transfusion')"
      ]
     },
     "execution_count": 34,
     "metadata": {},
     "output_type": "execute_result"
    },
    {
     "data": {
      "image/png": "[encoded data removed]",
      "text/plain": [
       "<Figure size 1296x288 with 3 Axes>"
      ]
     },
     "metadata": {
      "needs_background": "light"
     },
     "output_type": "display_data"
    }
   ],
   "source": [
    "fig, axs = plt.subplots(1, 3, figsize =(18, 4))\n",
    "\n",
    "axs[0].scatter(medianAllFeatureTable['del_SPO2_1'], medianAllFeatureTable['Hb'],color='black')\n",
    "axs[0].set_title('$\\Delta$SpO$_2$ vs Hb: Red cells transfusion patients (\\u03C4=9hrs)')\n",
    "axs[0].set_xlabel('AfterT1 $\\Delta$SpO$_2 (\\%)$')\n",
    "axs[0].set_ylabel('Hb (g/dL) just before transfusion')\n",
    "\n",
    "axs[1].scatter(medianAllFeatureTable['del_SPO2_2'], medianAllFeatureTable['Hb'],color='black')\n",
    "axs[1].set_title('$\\Delta$SpO$_2$ vs Hb: Red cells transfusion patients (\\u03C4=9hrs)')\n",
    "axs[1].set_xlabel('AfterT2 $\\Delta$SpO$_2 (\\%)$')\n",
    "axs[1].set_ylabel('Hb (g/dL) just before transfusion')\n",
    "\n",
    "axs[2].scatter(medianAllFeatureTable['del_SPO2_3'], medianAllFeatureTable['Hb'],color='black')\n",
    "axs[2].set_title('$\\Delta$SpO$_2$ vs Hb: Red cells transfusion patients (\\u03C4=9hrs)')\n",
    "axs[2].set_xlabel('AfterT3 $\\Delta$SpO$_2 (\\%)$')\n",
    "axs[2].set_ylabel('Hb (g/dL) just before transfusion')\n",
    "\n",
    "# plt.savefig('DATA_RESULTS/delSpO2vsHb_RedCellsT.png', format=\"png\", bbox_inches=\"tight\", dpi=300)"
   ]
  },
  {
   "cell_type": "code",
   "execution_count": 35,
   "id": "0d3759a4-5689-4c8c-8475-52184983cc0d",
   "metadata": {},
   "outputs": [
    {
     "data": {
      "text/plain": [
       "<matplotlib.legend.Legend at 0x2b04eb6fd670>"
      ]
     },
     "execution_count": 35,
     "metadata": {},
     "output_type": "execute_result"
    },
    {
     "data": {
      "image/png": "[encoded data removed]",
      "text/plain": [
       "<Figure size 432x288 with 1 Axes>"
      ]
     },
     "metadata": {
      "needs_background": "light"
     },
     "output_type": "display_data"
    }
   ],
   "source": [
    "fig, axs = plt.subplots(figsize =(6, 4))\n",
    "\n",
    "axs.plot(medianAllFeatureTable['del_SPO2_1'], medianAllFeatureTable['Hb'],'o',color='black')\n",
    "axs.plot(medianAllFeatureTable['del_SPO2_2'], medianAllFeatureTable['Hb'],'o',color='red')\n",
    "axs.plot(medianAllFeatureTable['del_SPO2_3'], medianAllFeatureTable['Hb'],'o',color='blue')\n",
    "axs.set_title('$\\Delta$SpO$_2$ vs Hb: Red cells transfusion patients (\\u03C4=9hrs)')\n",
    "axs.set_xlabel('Three regions $\\Delta$SpO$_2 (\\%)$ afterT')\n",
    "axs.set_ylabel('Hb (g/dL) just before transfusion')\n",
    "axs.legend(['afterT1 $\\Delta$SpO2 vs Hb','afterT2 $\\Delta$SpO2 vs Hb','afterT3 $\\Delta$SpO2 vs Hb'])\n",
    "\n",
    "# plt.savefig('DATA_RESULTS/ThreeRegions_delSpO2vsHb_RedCellsT.eps', format=\"eps\", bbox_inches=\"tight\", dpi=300)"
   ]
  },
  {
   "cell_type": "code",
   "execution_count": 36,
   "id": "4fe27a7f-7cb2-420e-b882-04d8b1059141",
   "metadata": {},
   "outputs": [
    {
     "data": {
      "text/plain": [
       "(-5.0, 9.0)"
      ]
     },
     "execution_count": 36,
     "metadata": {},
     "output_type": "execute_result"
    },
    {
     "data": {
      "image/png": "[encoded data removed]",
      "text/plain": [
       "<Figure size 1296x288 with 3 Axes>"
      ]
     },
     "metadata": {
      "needs_background": "light"
     },
     "output_type": "display_data"
    }
   ],
   "source": [
    "fig, axs = plt.subplots(1, 3, figsize =(18, 4))\n",
    "\n",
    "axs[0].plot(medianAllFeatureTable['del_SPO2_1'], medianAllFeatureTable['del_Hb_1'],'o',color='black')\n",
    "axs[0].plot(medianAllFeatureTable['del_SPO2_2'], medianAllFeatureTable['del_Hb_1'],'o',color='red')\n",
    "axs[0].plot(medianAllFeatureTable['del_SPO2_3'], medianAllFeatureTable['del_Hb_1'],'o',color='blue')\n",
    "axs[0].set_title('$\\Delta$SpO$_2$ vs $\\Delta$Hb: Red cells transfusion patients (\\u03C4=9hrs)')\n",
    "axs[0].set_xlabel('Three regions $\\Delta$SpO$_2 (\\%)$ afterT')\n",
    "axs[0].set_ylabel('AfterT1 $\\Delta$Hb (g/dL)')\n",
    "axs[0].legend(['afterT1 $\\Delta$SpO2 vs $\\Delta$Hb1','afterT2 $\\Delta$SpO2 vs $\\Delta$Hb1','afterT3 $\\Delta$SpO2 vs $\\Delta$Hb1'])\n",
    "axs[0].set_ylim([-5,9])\n",
    "\n",
    "axs[1].plot(medianAllFeatureTable['del_SPO2_1'], medianAllFeatureTable['del_Hb_2'],'o',color='black')\n",
    "axs[1].plot(medianAllFeatureTable['del_SPO2_2'], medianAllFeatureTable['del_Hb_2'],'o',color='red')\n",
    "axs[1].plot(medianAllFeatureTable['del_SPO2_3'], medianAllFeatureTable['del_Hb_2'],'o',color='blue')\n",
    "axs[1].set_title('$\\Delta$SpO$_2$ vs $\\Delta$Hb: Red cells transfusion patients (\\u03C4=9hrs)')\n",
    "axs[1].set_xlabel('Three regions $\\Delta$SpO$_2 (\\%)$ afterT')\n",
    "axs[1].set_ylabel('AfterT2 $\\Delta$Hb (g/dL)')\n",
    "axs[1].legend(['afterT1 $\\Delta$SpO2 vs $\\Delta$Hb2','afterT2 $\\Delta$SpO2 vs $\\Delta$Hb2','afterT3 $\\Delta$SpO2 vs $\\Delta$Hb2'])\n",
    "axs[1].set_ylim([-5,9])\n",
    "\n",
    "axs[2].plot(medianAllFeatureTable['del_SPO2_1'], medianAllFeatureTable['del_Hb_3'],'o',color='black')\n",
    "axs[2].plot(medianAllFeatureTable['del_SPO2_2'], medianAllFeatureTable['del_Hb_3'],'o',color='red')\n",
    "axs[2].plot(medianAllFeatureTable['del_SPO2_3'], medianAllFeatureTable['del_Hb_3'],'o',color='blue')\n",
    "axs[2].set_title('$\\Delta$SpO$_2$ vs $\\Delta$Hb: Red cells transfusion patients (\\u03C4=9hrs)')\n",
    "axs[2].set_xlabel('Three regions $\\Delta$SpO$_2 (\\%)$ afterT')\n",
    "axs[2].set_ylabel('AfterT3 $\\Delta$Hb (g/dL)')\n",
    "axs[2].legend(['afterT1 $\\Delta$SpO2 vs $\\Delta$Hb3','afterT2 $\\Delta$SpO2 vs $\\Delta$Hb3','afterT3 $\\Delta$SpO2 vs $\\Delta$Hb3'])\n",
    "axs[2].set_ylim([-5,9])\n",
    "\n",
    "# plt.savefig('DATA_RESULTS/ThreeRegions_delSpO2vsdelHb_RedCellsT_7_24_22.png')"
   ]
  },
  {
   "cell_type": "code",
   "execution_count": null,
   "id": "7f072b30-a3d8-4d3d-9481-4653af8ee7e2",
   "metadata": {},
   "outputs": [],
   "source": []
  },
  {
   "cell_type": "code",
   "execution_count": 37,
   "id": "d48e0aa3-d3fe-47ef-b63a-0b0b02ba184c",
   "metadata": {},
   "outputs": [
    {
     "data": {
      "text/plain": [
       "Text(0, 0.5, 'Median HB beforeT')"
      ]
     },
     "execution_count": 37,
     "metadata": {},
     "output_type": "execute_result"
    },
    {
     "data": {
      "image/png": "[encoded data removed]",
      "text/plain": [
       "<Figure size 1296x288 with 3 Axes>"
      ]
     },
     "metadata": {
      "needs_background": "light"
     },
     "output_type": "display_data"
    }
   ],
   "source": [
    "fig, axs = plt.subplots(1, 3, figsize =(18, 4))\n",
    "\n",
    "axs[0].scatter(medianAllFeatureTable['MHB_afterT1'], medianAllFeatureTable['med_Hb_beforeT'],color='black')\n",
    "axs[0].set_title('BeforeT and afterT Hb: Red cells transfusion (\\u03C4=9hrs)')\n",
    "axs[0].set_xlabel('Median HB afterT1')\n",
    "axs[0].set_ylabel('Median HB beforeT')\n",
    "\n",
    "axs[1].scatter(medianAllFeatureTable['MHB_afterT2'], medianAllFeatureTable['med_Hb_beforeT'],color='black')\n",
    "axs[1].set_title('BeforeT and afterT Hb: Red cells transfusion (\\u03C4=9hrs)')\n",
    "axs[1].set_xlabel('Median HB afterT2')\n",
    "axs[1].set_ylabel('Median HB beforeT')\n",
    "\n",
    "axs[2].scatter(medianAllFeatureTable['MHB_afterT3'], medianAllFeatureTable['med_Hb_beforeT'],color='black')\n",
    "axs[2].set_title('BeforeT and afterT Hb: Red cells transfusion (\\u03C4=9hrs)')\n",
    "axs[2].set_xlabel('Median HB afterT3')\n",
    "axs[2].set_ylabel('Median HB beforeT')\n",
    "\n",
    "# plt.savefig('DATA_RESULTS/Hb_BeforeAndAfterT_RedCellsT_7_24_22.png')"
   ]
  },
  {
   "cell_type": "code",
   "execution_count": 38,
   "id": "23716441-b9b1-4026-bd4f-151f92bf1406",
   "metadata": {},
   "outputs": [
    {
     "data": {
      "text/plain": [
       "Text(0, 0.5, 'Median SF beforeT')"
      ]
     },
     "execution_count": 38,
     "metadata": {},
     "output_type": "execute_result"
    },
    {
     "data": {
      "image/png": "[encoded data removed]",
      "text/plain": [
       "<Figure size 1296x288 with 3 Axes>"
      ]
     },
     "metadata": {
      "needs_background": "light"
     },
     "output_type": "display_data"
    }
   ],
   "source": [
    "fig, axs = plt.subplots(1, 3, figsize =(18, 4))\n",
    "\n",
    "axs[0].scatter(medianAllFeatureTable['MSF_afterT1'], medianAllFeatureTable['med_SF_beforeT'],color='black')\n",
    "axs[0].set_title('BeforeT and afterT SF: Red cells transfusion (\\u03C4=9hrs)')\n",
    "axs[0].set_xlabel('Median SF afterT1')\n",
    "axs[0].set_ylabel('Median SF beforeT')\n",
    "\n",
    "axs[1].scatter(medianAllFeatureTable['MSF_afterT2'], medianAllFeatureTable['med_SF_beforeT'],color='black')\n",
    "axs[1].set_title('BeforeT and afterT SF: Red cells transfusion (\\u03C4=9hrs)')\n",
    "axs[1].set_xlabel('Median SF afterT2')\n",
    "axs[1].set_ylabel('Median SF beforeT')\n",
    "\n",
    "axs[2].scatter(medianAllFeatureTable['MSF_afterT3'], medianAllFeatureTable['med_SF_beforeT'],color='black')\n",
    "axs[2].set_title('BeforeT and afterT SF: Red cells transfusion (\\u03C4=9hrs)')\n",
    "axs[2].set_xlabel('Median SF afterT3')\n",
    "axs[2].set_ylabel('Median SF beforeT')\n",
    "\n",
    "# plt.savefig('Data_Transfusion_VitalSigns_12_18_22/SF_BeforeAndAfterT_RedCellsT_6_23_22.png')"
   ]
  },
  {
   "cell_type": "code",
   "execution_count": 39,
   "id": "c2b3dd5e-8d03-4d40-9fd9-d821f8a4c532",
   "metadata": {},
   "outputs": [
    {
     "data": {
      "text/plain": [
       "Text(0, 0.5, 'Median PF beforeT')"
      ]
     },
     "execution_count": 39,
     "metadata": {},
     "output_type": "execute_result"
    },
    {
     "data": {
      "image/png": "[encoded data removed]",
      "text/plain": [
       "<Figure size 1296x288 with 3 Axes>"
      ]
     },
     "metadata": {
      "needs_background": "light"
     },
     "output_type": "display_data"
    }
   ],
   "source": [
    "fig, axs = plt.subplots(1, 3, figsize =(18, 4))\n",
    "\n",
    "axs[0].scatter(medianAllFeatureTable['MPF_afterT1'], medianAllFeatureTable['med_PF_beforeT'],color='black')\n",
    "axs[0].set_title('BeforeT and afterT PF: Red cells transfusion (\\u03C4=9hrs)')\n",
    "axs[0].set_xlabel('Median PF afterT1')\n",
    "axs[0].set_ylabel('Median PF beforeT')\n",
    "\n",
    "axs[1].scatter(medianAllFeatureTable['MPF_afterT2'], medianAllFeatureTable['med_PF_beforeT'],color='black')\n",
    "axs[1].set_title('BeforeT and afterT PF: Red cells transfusion (\\u03C4=9hrs)')\n",
    "axs[1].set_xlabel('Median PF afterT2')\n",
    "axs[1].set_ylabel('Median PF beforeT')\n",
    "\n",
    "axs[2].scatter(medianAllFeatureTable['MPF_afterT3'], medianAllFeatureTable['med_PF_beforeT'],color='black')\n",
    "axs[2].set_title('BeforeT and afterT PF: Red cells transfusion (\\u03C4=9hrs)')\n",
    "axs[2].set_xlabel('Median PF afterT3')\n",
    "axs[2].set_ylabel('Median PF beforeT')\n",
    "\n",
    "# plt.savefig('Data_Transfusion_VitalSigns_12_18_22/PF_BeforeAndAfterT_RedCellsT_6_23_22.png')"
   ]
  },
  {
   "cell_type": "code",
   "execution_count": 40,
   "id": "9d6b508d-5649-4971-bfad-319d148d9d19",
   "metadata": {},
   "outputs": [
    {
     "data": {
      "text/plain": [
       "Text(0, 0.5, 'Median SpO2 beforeT')"
      ]
     },
     "execution_count": 40,
     "metadata": {},
     "output_type": "execute_result"
    },
    {
     "data": {
      "image/png": "[encoded data removed]",
      "text/plain": [
       "<Figure size 1296x288 with 3 Axes>"
      ]
     },
     "metadata": {
      "needs_background": "light"
     },
     "output_type": "display_data"
    }
   ],
   "source": [
    "fig, axs = plt.subplots(1, 3, figsize =(18, 4))\n",
    "\n",
    "axs[0].scatter(medianAllFeatureTable['MSPO2_afterT1'], medianAllFeatureTable['med_spo2_beforeT'],color='black')\n",
    "axs[0].set_title('BeforeT and afterT SpO2: Red cells transfusion (\\u03C4=9hrs)')\n",
    "axs[0].set_xlabel('Median SpO2 afterT1')\n",
    "axs[0].set_ylabel('Median SpO2 beforeT')\n",
    "\n",
    "axs[1].scatter(medianAllFeatureTable['MSPO2_afterT2'], medianAllFeatureTable['med_spo2_beforeT'],color='black')\n",
    "axs[1].set_title('BeforeT and afterT SpO2: Red cells transfusion (\\u03C4=9hrs)')\n",
    "axs[1].set_xlabel('Median SpO2 afterT2')\n",
    "axs[1].set_ylabel('Median SpO2 beforeT')\n",
    "\n",
    "axs[2].scatter(medianAllFeatureTable['MSPO2_afterT3'], medianAllFeatureTable['med_spo2_beforeT'],color='black')\n",
    "axs[2].set_title('BeforeT and afterT SpO2: Red cells transfusion (\\u03C4=9hrs)')\n",
    "axs[2].set_xlabel('Median SpO2 afterT3')\n",
    "axs[2].set_ylabel('Median SpO2 beforeT')\n",
    "\n",
    "# plt.savefig('Data_Transfusion_VitalSigns_12_18_22/SpO2_BeforeAndAfterT_RedCellsT_6_23_22.png')"
   ]
  },
  {
   "cell_type": "code",
   "execution_count": 42,
   "id": "7160236c-697e-42a5-8c99-7159439cfad3",
   "metadata": {},
   "outputs": [
    {
     "data": {
      "text/plain": [
       "Text(0, 0.5, 'Transfused blood volume (ml)')"
      ]
     },
     "execution_count": 42,
     "metadata": {},
     "output_type": "execute_result"
    },
    {
     "data": {
      "image/png": "[encoded data removed]",
      "text/plain": [
       "<Figure size 1296x288 with 3 Axes>"
      ]
     },
     "metadata": {
      "needs_background": "light"
     },
     "output_type": "display_data"
    }
   ],
   "source": [
    "fig, axs = plt.subplots(1, 3, figsize =(18, 4))\n",
    "\n",
    "axs[0].scatter(medianAllFeatureTable['del_SPO2_1'], medianAllFeatureTable['unit'],color='black')\n",
    "axs[0].set_title('$\\Delta$SpO$_2$ vs Blood volume: Red cells transfusion patients (\\u03C4=9hrs)')\n",
    "axs[0].set_xlabel('AfterT1 $\\Delta$SpO$_2 (\\%)$')\n",
    "axs[0].set_ylabel('Hb (g/dL) just before transfusion')\n",
    "\n",
    "axs[1].scatter(medianAllFeatureTable['del_SPO2_2'], medianAllFeatureTable['unit'],color='black')\n",
    "axs[1].set_title('$\\Delta$SpO$_2$ vs Blood volume: Red cells transfusion patients (\\u03C4=9hrs)')\n",
    "axs[1].set_xlabel('AfterT2 $\\Delta$SpO$_2 (\\%)$')\n",
    "axs[1].set_ylabel('Transfused blood volume (ml)')\n",
    "\n",
    "axs[2].scatter(medianAllFeatureTable['del_SPO2_3'], medianAllFeatureTable['unit'],color='black')\n",
    "axs[2].set_title('$\\Delta$SpO$_2$ vs Blood volume: Red cells transfusion patients (\\u03C4=9hrs)')\n",
    "axs[2].set_xlabel('AfterT3 $\\Delta$SpO$_2 (\\%)$')\n",
    "axs[2].set_ylabel('Transfused blood volume (ml)')\n",
    "\n",
    "# plt.savefig('Data_Transfusion_VitalSigns_12_18_22/delSpO2vsBloodV_RedCellsT_6_23_22.png')"
   ]
  },
  {
   "cell_type": "code",
   "execution_count": 44,
   "id": "0a69a7c5-8112-4b3f-980b-fdef12f34ce8",
   "metadata": {},
   "outputs": [
    {
     "data": {
      "text/plain": [
       "Text(0, 0.5, 'Blood volume (ml)')"
      ]
     },
     "execution_count": 44,
     "metadata": {},
     "output_type": "execute_result"
    },
    {
     "data": {
      "image/png": "[encoded data removed]",
      "text/plain": [
       "<Figure size 432x288 with 1 Axes>"
      ]
     },
     "metadata": {
      "needs_background": "light"
     },
     "output_type": "display_data"
    }
   ],
   "source": [
    "fig, axs = plt.subplots()\n",
    "\n",
    "axs.scatter(medianAllFeatureTable['Hb'], medianAllFeatureTable['unit'],color='black')\n",
    "axs.set_title('Hb vs Blood volume: Red cells transfusion patients (\\u03C4=9hrs)')\n",
    "axs.set_xlabel('Hb (g/dL) just before transfusion')\n",
    "axs.set_ylabel('Blood volume (ml)')\n",
    "\n",
    "# plt.savefig('Data_Transfusion_VitalSigns_12_18_22/HbvsBloodV_RedCellsT_6_23_22.png')"
   ]
  },
  {
   "cell_type": "code",
   "execution_count": null,
   "id": "99966568-df80-43f4-ae05-51e875e059b7",
   "metadata": {},
   "outputs": [],
   "source": [
    "# from sklearn.model_selection import train_test_split\n",
    "# x = iris.iloc[:, :-1].values #last column values excluded\n",
    "# y = iris.iloc[:,   -1].values #last column value"
   ]
  },
  {
   "cell_type": "code",
   "execution_count": null,
   "id": "32563e2e-3005-4ee0-8cc4-b4623d65073c",
   "metadata": {},
   "outputs": [],
   "source": []
  },
  {
   "cell_type": "code",
   "execution_count": null,
   "id": "08f7f1e2-1491-4eb1-827c-9028bb831fb7",
   "metadata": {},
   "outputs": [],
   "source": []
  },
  {
   "cell_type": "code",
   "execution_count": null,
   "id": "284289d8-64f7-423b-91b8-bbbd378f50db",
   "metadata": {},
   "outputs": [],
   "source": []
  },
  {
   "cell_type": "code",
   "execution_count": null,
   "id": "8d05040b-2c96-4c2b-9618-3d11793fab04",
   "metadata": {},
   "outputs": [],
   "source": []
  },
  {
   "cell_type": "code",
   "execution_count": null,
   "id": "fa0273dc-0a19-4c58-a506-d44828b5bedb",
   "metadata": {},
   "outputs": [],
   "source": []
  },
  {
   "cell_type": "code",
   "execution_count": null,
   "id": "417f4966-4b8e-42b4-8749-199cd13b42b9",
   "metadata": {},
   "outputs": [],
   "source": []
  },
  {
   "cell_type": "code",
   "execution_count": null,
   "id": "e807773b-dc1d-4008-91fb-e3c2ca40cf48",
   "metadata": {},
   "outputs": [],
   "source": []
  },
  {
   "cell_type": "code",
   "execution_count": null,
   "id": "1b12f083-675b-47d0-8e05-d260b184050b",
   "metadata": {},
   "outputs": [],
   "source": []
  },
  {
   "cell_type": "code",
   "execution_count": null,
   "id": "0dae8fc2-b806-4f94-b2b0-4087bd35df9d",
   "metadata": {},
   "outputs": [],
   "source": []
  },
  {
   "cell_type": "code",
   "execution_count": null,
   "id": "704d8f3c-a164-4475-b216-6d0cd3740dfa",
   "metadata": {},
   "outputs": [],
   "source": []
  },
  {
   "cell_type": "code",
   "execution_count": null,
   "id": "0e7d9b2d-1e9e-4ba8-811e-a3de04b1e086",
   "metadata": {},
   "outputs": [],
   "source": []
  },
  {
   "cell_type": "code",
   "execution_count": null,
   "id": "84255d01-47a2-4c54-829c-14033a803734",
   "metadata": {},
   "outputs": [],
   "source": []
  },
  {
   "cell_type": "code",
   "execution_count": null,
   "id": "4eaa250b-4541-4178-b11f-356481bd84fb",
   "metadata": {},
   "outputs": [],
   "source": [
    "len(ResponderIndex)"
   ]
  },
  {
   "cell_type": "code",
   "execution_count": null,
   "id": "76a8791e-cf69-4b89-8f57-ce23819ba96e",
   "metadata": {},
   "outputs": [],
   "source": [
    "len(NonResponderIndex)"
   ]
  },
  {
   "cell_type": "code",
   "execution_count": null,
   "id": "51ab0466-3864-4565-97f0-a558dac3879d",
   "metadata": {},
   "outputs": [],
   "source": [
    "len(FileNotFoundErrorCases)"
   ]
  },
  {
   "cell_type": "code",
   "execution_count": null,
   "id": "f6b6e985-4aa0-475a-b7b4-b23f9273b8a7",
   "metadata": {},
   "outputs": [],
   "source": [
    "len(np.unique(ResponderList))"
   ]
  },
  {
   "cell_type": "code",
   "execution_count": null,
   "id": "ad4c873f-1b9b-485d-82ce-1315e936894e",
   "metadata": {},
   "outputs": [],
   "source": [
    "len(np.unique(NonResponderList))"
   ]
  },
  {
   "cell_type": "code",
   "execution_count": null,
   "id": "8ea8c198-a8e9-4817-9798-17f2d7f11418",
   "metadata": {},
   "outputs": [],
   "source": [
    "len(IndexErrorCases)"
   ]
  },
  {
   "cell_type": "code",
   "execution_count": null,
   "id": "ed5318f2-8813-4de2-9847-81689666bb92",
   "metadata": {},
   "outputs": [],
   "source": [
    "len(ValueErrorCases)"
   ]
  },
  {
   "cell_type": "code",
   "execution_count": null,
   "id": "89cceabd-8824-4673-8894-f56a8a588144",
   "metadata": {},
   "outputs": [],
   "source": [
    "len(LenLessThan24HrIndexAfterT)"
   ]
  },
  {
   "cell_type": "code",
   "execution_count": null,
   "id": "a787e724-f18a-418c-83c0-5d091681d75d",
   "metadata": {},
   "outputs": [],
   "source": [
    "len(LenLessThan24HrIndexBeforeT)"
   ]
  },
  {
   "cell_type": "code",
   "execution_count": null,
   "id": "dcd0e7a8-66ba-487a-990b-603c429723e3",
   "metadata": {},
   "outputs": [],
   "source": [
    "len(ErrorLessThan5HrAfterTtime)"
   ]
  },
  {
   "cell_type": "code",
   "execution_count": null,
   "id": "d5c98fe4-2eef-433a-b907-2f178decb395",
   "metadata": {},
   "outputs": [],
   "source": [
    "#len(GoodSpO2CasesBeforeT)"
   ]
  },
  {
   "cell_type": "code",
   "execution_count": null,
   "id": "ceee5a18-2529-4249-87df-65faaa01729d",
   "metadata": {},
   "outputs": [],
   "source": [
    "TransfusionVar = {'ResponderIndex': ResponderIndex, 'NonResponderIndex': NonResponderIndex, \n",
    "                 'ResponderList': ResponderList, 'NonResponderList': NonResponderList,\n",
    "                 'FileNotFoundErrorCases': FileNotFoundErrorCases, 'IndexErrorCases': IndexErrorCases,\n",
    "                 'ValueErrorCases': ValueErrorCases, 'LenLessThan24HrIndexAfterT': LenLessThan24HrIndexAfterT,\n",
    "                 'LenLessThan24HrIndexBeforeT': LenLessThan24HrIndexBeforeT, 'ErrorLessThan5HrAfterTtime': ErrorLessThan5HrAfterTtime}\n",
    "                 #'GoodSpO2CasesBeforeT': GoodSpO2CasesBeforeT}"
   ]
  },
  {
   "cell_type": "markdown",
   "id": "ac1318b9-6586-4881-b28d-cbdf9f1ed1f1",
   "metadata": {},
   "source": [
    "*Saving TransfusionVar in pickle*"
   ]
  },
  {
   "cell_type": "code",
   "execution_count": null,
   "id": "36894385-13cc-4678-a7d2-28acfae76956",
   "metadata": {},
   "outputs": [],
   "source": [
    "# ###Saving TransfusionVar in pickle\n",
    "# with open('TransfusionVar_6_22_22_improvFactor_2.pickle', 'wb') as handle:\n",
    "#     pickle.dump(TransfusionVar, handle, protocol=pickle.HIGHEST_PROTOCOL)\n",
    "\n",
    "\n",
    "###with open('TransfusionVar_5_27_22.pickle', 'rb') as handle:\n",
    "###     varAll = pickle.load(handle)"
   ]
  },
  {
   "cell_type": "markdown",
   "id": "086e4267-a51e-44a8-bf64-17d7d0ef1e7d",
   "metadata": {},
   "source": [
    "**Divide Responders vs Non-Responders**"
   ]
  },
  {
   "cell_type": "code",
   "execution_count": null,
   "id": "3126a8ab-c650-45ba-b707-d722b15078e9",
   "metadata": {},
   "outputs": [],
   "source": [
    "#Only Responders and NonResponders are included for this study\n",
    "#Starting 458 indexes (0 to ...) are---> Responders \n",
    "#After 459 index (... to ...) are---> NonResponders\n",
    "lenResponders = len(ResponderIndex)\n",
    "ResponderNonresponders = IntersectionBeforeDuringAfter.iloc[np.append(ResponderIndex, NonResponderIndex)]\n",
    "ResponderNonresponders = ResponderNonresponders.reset_index()\n",
    "ResponderNonresponders = ResponderNonresponders[['deBedTime','PAT_ID', 'csn',\n",
    "       'dispense_dt_tm', 'DateStart', 'DateEnd', 'estimated_transfusion_dt_tm', 'FileStart', 'FileStop', 'product_cd_disp',\n",
    "       'product_cat_cd_disp','Hb_collection_time','Hb','MedSPO2_beforeT','MedSPO2_afterT','del_SPO2']]\n",
    "ResponderNonresponders"
   ]
  },
  {
   "cell_type": "markdown",
   "id": "098091ed-4434-4fcc-a158-b70642cd4470",
   "metadata": {},
   "source": [
    "*Writing in CSV*"
   ]
  },
  {
   "cell_type": "code",
   "execution_count": null,
   "id": "682cf77c-c966-4344-ba6a-800336e9c6f1",
   "metadata": {},
   "outputs": [],
   "source": [
    "# ResponderNonresponders.to_csv(\"ResponderNonresponders_6_22_22_improv_factor_2.csv\")"
   ]
  },
  {
   "cell_type": "code",
   "execution_count": null,
   "id": "a2a6329e-3254-4f12-859f-ec7410abfea8",
   "metadata": {},
   "outputs": [],
   "source": [
    "plt.figure()\n",
    "plt.scatter(ResponderNonresponders['del_SPO2'], ResponderNonresponders['Hb'],color='black')\n",
    "plt.title('$\\Delta$SpO$_2$ vs Hb: All Patients')\n",
    "plt.xlabel('$\\Delta$SpO$_2 (\\%)$')\n",
    "plt.ylabel('Hb (g/dL)')\n",
    "\n",
    "#plt.savefig('delSpO2vsHb_RedCellsT_6_22_22.png')"
   ]
  },
  {
   "cell_type": "code",
   "execution_count": null,
   "id": "7a9c87d7-9e4c-4ae4-a3de-4b764dd7bccf",
   "metadata": {},
   "outputs": [],
   "source": [
    "plt.figure()\n",
    "plt.scatter(ResponderNonresponders.iloc[:lenResponders]['del_SPO2'], ResponderNonresponders.iloc[:lenResponders]['Hb'], color='blue')\n",
    "plt.title('$\\Delta$SpO$_2$ vs Hb: Responders')\n",
    "plt.xlabel('$\\Delta$SpO$_2 (\\%)$')\n",
    "plt.ylabel('Hb (g/dL)')"
   ]
  },
  {
   "cell_type": "code",
   "execution_count": null,
   "id": "bc9acca5-d98c-4156-90e5-e0ce28a0d875",
   "metadata": {},
   "outputs": [],
   "source": [
    "plt.figure()\n",
    "plt.scatter(ResponderNonresponders.iloc[lenResponders:]['del_SPO2'], ResponderNonresponders.iloc[lenResponders:]['Hb'],color='red')\n",
    "plt.title('$\\Delta$SpO$_2$ vs Hb: Nonresponders')\n",
    "plt.xlabel('$\\Delta$SpO$_2 (\\%)$')\n",
    "plt.ylabel('Hb (g/dL)')"
   ]
  },
  {
   "cell_type": "code",
   "execution_count": null,
   "id": "1dc4f6ad-f101-4be8-858e-0740fcea82bc",
   "metadata": {},
   "outputs": [],
   "source": [
    "plt.figure()\n",
    "plt.scatter(ResponderNonresponders.iloc[:lenResponders]['del_SPO2'], ResponderNonresponders.iloc[:lenResponders]['Hb'], color='blue')\n",
    "plt.scatter(ResponderNonresponders.iloc[lenResponders:]['del_SPO2'], ResponderNonresponders.iloc[lenResponders:]['Hb'],color='red')\n",
    "plt.title('$\\Delta$SpO$_2$ vs Hb: Responders and Nonresponders') #: Responders and Nonresponders #Red Cells Transfusion: \n",
    "plt.xlabel('$\\Delta$SpO$_2 (\\%)$')\n",
    "plt.ylabel('Hb (g/dL)')\n",
    "plt.legend(['Responders ($\\Delta$SpO$_2$>2)','Nonresponders ($\\Delta$SpO$_2$<2)'])\n",
    "plt.ylim([2,18])\n",
    "\n",
    "# plt.savefig('delSpO2vsHb_improvFactor_2_RedCellsT_6_22_22.png')"
   ]
  }
 ],
 "metadata": {
  "kernelspec": {
   "display_name": "Python 3 (ipykernel)",
   "language": "python",
   "name": "python3"
  },
  "language_info": {
   "codemirror_mode": {
    "name": "ipython",
    "version": 3
   },
   "file_extension": ".py",
   "mimetype": "text/x-python",
   "name": "python",
   "nbconvert_exporter": "python",
   "pygments_lexer": "ipython3",
   "version": "3.8.13"
  }
 },
 "nbformat": 4,
 "nbformat_minor": 5
}
